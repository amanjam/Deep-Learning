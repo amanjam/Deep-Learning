{
  "nbformat": 4,
  "nbformat_minor": 0,
  "metadata": {
    "colab": {
      "provenance": []
    },
    "kernelspec": {
      "name": "python3",
      "display_name": "Python 3"
    },
    "language_info": {
      "name": "python"
    }
  },
  "cells": [
    {
      "cell_type": "code",
      "source": [
        "\n",
        "pip install pydot graphviz\n"
      ],
      "metadata": {
        "id": "h7zjDr-ZL--C",
        "outputId": "ec961ee2-3d52-4920-fd7b-36fb5e7bfbc9",
        "colab": {
          "base_uri": "https://localhost:8080/"
        }
      },
      "execution_count": 2,
      "outputs": [
        {
          "output_type": "stream",
          "name": "stdout",
          "text": [
            "Requirement already satisfied: pydot in /usr/local/lib/python3.10/dist-packages (1.4.2)\n",
            "Requirement already satisfied: graphviz in /usr/local/lib/python3.10/dist-packages (0.20.3)\n",
            "Requirement already satisfied: pyparsing>=2.1.4 in /usr/local/lib/python3.10/dist-packages (from pydot) (3.1.2)\n"
          ]
        }
      ]
    },
    {
      "cell_type": "code",
      "source": [
        "!pip install keras.utils.vis_utils"
      ],
      "metadata": {
        "id": "j830W3u9Mndk",
        "outputId": "17895a25-5df2-4c56-ba1c-0ad53de80c2b",
        "colab": {
          "base_uri": "https://localhost:8080/"
        }
      },
      "execution_count": 3,
      "outputs": [
        {
          "output_type": "stream",
          "name": "stdout",
          "text": [
            "\u001b[31mERROR: Could not find a version that satisfies the requirement keras.utils.vis_utils (from versions: none)\u001b[0m\u001b[31m\n",
            "\u001b[0m\u001b[31mERROR: No matching distribution found for keras.utils.vis_utils\u001b[0m\u001b[31m\n",
            "\u001b[0m"
          ]
        }
      ]
    },
    {
      "cell_type": "code",
      "execution_count": 4,
      "metadata": {
        "id": "r6MqqScLzeNF"
      },
      "outputs": [],
      "source": [
        "import tensorflow as tf\n",
        "import numpy as np\n",
        "import pandas as pd\n",
        "from pylab import rcParams\n",
        "import matplotlib.pyplot as plt\n",
        "import warnings\n",
        "from mlxtend.plotting import plot_decision_regions\n",
        "from matplotlib.colors import ListedColormap\n",
        "from tensorflow.keras.models import Sequential\n",
        "from tensorflow.keras.layers import Dropout\n",
        "from tensorflow.keras.layers import Dense\n",
        "from tensorflow.keras.callbacks import EarlyStopping\n",
        "from sklearn.model_selection import train_test_split\n",
        "from sklearn.datasets import make_circles\n",
        "import seaborn as sns"
      ]
    },
    {
      "cell_type": "code",
      "source": [
        "X, y = make_circles(n_samples=100, noise=0.1, random_state=1)"
      ],
      "metadata": {
        "id": "i9RNS3GXzfkb"
      },
      "execution_count": 10,
      "outputs": []
    },
    {
      "cell_type": "code",
      "source": [
        "X,y"
      ],
      "metadata": {
        "id": "xQDMvbSo7B_Y",
        "outputId": "fbf31a65-65e3-4df7-9e56-c86d4f64e57e",
        "colab": {
          "base_uri": "https://localhost:8080/"
        }
      },
      "execution_count": 11,
      "outputs": [
        {
          "output_type": "execute_result",
          "data": {
            "text/plain": [
              "(array([[-0.63640493, -0.36870191],\n",
              "        [-0.24465976, -0.73659196],\n",
              "        [-0.46597138, -1.06687743],\n",
              "        [-0.70999784, -0.40841948],\n",
              "        [ 0.70232238, -0.51730147],\n",
              "        [-0.49776571,  0.76955129],\n",
              "        [-0.31914906, -0.84899624],\n",
              "        [-0.57839322, -0.49081236],\n",
              "        [-0.53350227,  0.58056527],\n",
              "        [-0.24733259,  0.73011595],\n",
              "        [ 0.41030774, -0.73075986],\n",
              "        [ 0.17181003, -0.92504802],\n",
              "        [ 0.65917045,  0.62120588],\n",
              "        [ 0.87625577,  0.12510879],\n",
              "        [ 0.81946243, -0.01347859],\n",
              "        [-0.47960986, -0.7880243 ],\n",
              "        [-0.90187751, -0.70895455],\n",
              "        [ 0.74827659, -0.55976747],\n",
              "        [-0.74875324, -0.37153443],\n",
              "        [ 0.23161178,  1.01205842],\n",
              "        [ 0.81387506,  0.22821311],\n",
              "        [-0.92169575,  0.20310719],\n",
              "        [ 0.74650434, -0.35861224],\n",
              "        [ 0.01330079,  0.68169193],\n",
              "        [-0.72651409,  0.58630948],\n",
              "        [-0.33930852, -1.0080984 ],\n",
              "        [ 0.49009938, -0.62509577],\n",
              "        [-0.9539309 , -0.33410313],\n",
              "        [ 0.6927241 , -0.59576417],\n",
              "        [ 0.003546  , -0.9098264 ],\n",
              "        [-0.35077763,  0.82536558],\n",
              "        [ 0.94798269, -0.14503976],\n",
              "        [ 0.52327611,  0.20621942],\n",
              "        [ 0.54670705, -0.51026584],\n",
              "        [ 0.10385825, -0.66844291],\n",
              "        [ 0.31843503, -0.97937344],\n",
              "        [ 0.92901189, -0.31993308],\n",
              "        [ 0.20498887,  0.64009007],\n",
              "        [-1.01797423,  0.23454524],\n",
              "        [-0.51324637, -0.80013947],\n",
              "        [-0.12292134, -0.74493827],\n",
              "        [ 0.71008749,  0.30557432],\n",
              "        [-0.71742651, -0.13028889],\n",
              "        [-0.13663998,  0.7088594 ],\n",
              "        [-0.57877973, -0.67082245],\n",
              "        [ 0.41812614, -0.82061786],\n",
              "        [ 0.84575703, -0.63891465],\n",
              "        [ 0.26707772, -0.74994685],\n",
              "        [-0.87474347, -0.09886802],\n",
              "        [ 0.62430557, -0.0931694 ],\n",
              "        [ 0.65495356, -0.59471995],\n",
              "        [ 0.57445296,  0.52172511],\n",
              "        [-1.0617065 ,  0.30319732],\n",
              "        [ 0.96779554,  0.56332827],\n",
              "        [ 0.49980305,  0.65833135],\n",
              "        [ 0.9717675 , -0.08311653],\n",
              "        [-0.74061828,  0.46063137],\n",
              "        [ 0.08203902, -0.95784326],\n",
              "        [ 0.9202249 ,  0.33757265],\n",
              "        [-0.77079544,  0.05031276],\n",
              "        [-0.8114891 , -0.61756242],\n",
              "        [-0.3501353 ,  0.75032484],\n",
              "        [-0.74376426,  0.46339773],\n",
              "        [ 0.63771423, -0.84351537],\n",
              "        [ 0.75136154, -0.34005691],\n",
              "        [ 0.22716539, -0.81418053],\n",
              "        [ 0.52855241,  0.89270399],\n",
              "        [ 0.33982534,  0.57613098],\n",
              "        [ 1.02669518, -0.01098796],\n",
              "        [ 0.17659668, -0.83997859],\n",
              "        [ 0.47171265,  0.6689426 ],\n",
              "        [-0.9112213 ,  0.50131608],\n",
              "        [ 0.18668802,  0.6580003 ],\n",
              "        [-0.06259331,  0.7430852 ],\n",
              "        [ 0.74218942,  0.79243568],\n",
              "        [ 0.63184965, -0.30467967],\n",
              "        [-0.10163336,  0.86144353],\n",
              "        [-0.37799331,  0.51586893],\n",
              "        [-0.29317877, -0.73949777],\n",
              "        [-0.21099388,  0.81161572],\n",
              "        [-1.00407781, -0.55070155],\n",
              "        [-0.92695735, -0.41057272],\n",
              "        [ 0.20497791,  0.87640661],\n",
              "        [-0.66598082,  0.65032736],\n",
              "        [-0.92263395,  0.68059245],\n",
              "        [ 0.80940293,  0.15076116],\n",
              "        [-0.8871477 ,  0.01276883],\n",
              "        [ 0.72182595,  0.62661863],\n",
              "        [-0.65134504,  0.49909484],\n",
              "        [-0.71940931, -0.00172619],\n",
              "        [ 1.06096133,  0.0840763 ],\n",
              "        [-0.40443454,  0.84799759],\n",
              "        [-0.14018543,  0.64948924],\n",
              "        [-0.70669469, -0.29357585],\n",
              "        [ 0.83342493,  0.61278707],\n",
              "        [-0.78743102, -0.11249056],\n",
              "        [ 0.27602586,  0.88730559],\n",
              "        [-0.83505936,  0.02075632],\n",
              "        [ 0.26859755,  1.00452129],\n",
              "        [-0.22422412, -0.90416928]]),\n",
              " array([1, 1, 0, 1, 1, 0, 0, 1, 1, 1, 1, 0, 1, 1, 1, 0, 0, 0, 1, 0, 0, 1,\n",
              "        1, 1, 0, 0, 1, 0, 0, 0, 1, 1, 1, 1, 1, 0, 0, 1, 0, 0, 1, 1, 1, 0,\n",
              "        1, 0, 0, 1, 0, 1, 0, 1, 0, 0, 1, 0, 0, 1, 0, 1, 0, 1, 1, 0, 0, 1,\n",
              "        0, 1, 0, 1, 1, 0, 1, 1, 0, 1, 0, 1, 1, 0, 0, 0, 0, 0, 0, 1, 0, 0,\n",
              "        1, 1, 0, 0, 1, 1, 0, 1, 0, 1, 0, 0]))"
            ]
          },
          "metadata": {},
          "execution_count": 11
        }
      ]
    },
    {
      "cell_type": "code",
      "source": [
        "(X.shape,y.shape)\n",
        "print(type(X))\n",
        "print(y.ndim)\n",
        "print(type(y))\n",
        "# y=y.reshape(-1,1)\n",
        "print(y.ndim)\n"
      ],
      "metadata": {
        "id": "Aym0METr0XWD",
        "outputId": "895169b5-0b88-4d0f-8cdf-edf8fc7c2041",
        "colab": {
          "base_uri": "https://localhost:8080/"
        }
      },
      "execution_count": 12,
      "outputs": [
        {
          "output_type": "stream",
          "name": "stdout",
          "text": [
            "<class 'numpy.ndarray'>\n",
            "1\n",
            "<class 'numpy.ndarray'>\n",
            "1\n"
          ]
        }
      ]
    },
    {
      "cell_type": "code",
      "source": [
        "y.shape"
      ],
      "metadata": {
        "id": "ktmCHLns1syV",
        "outputId": "da5816b5-4633-41a6-b82a-7f8ded9c9598",
        "colab": {
          "base_uri": "https://localhost:8080/"
        }
      },
      "execution_count": 13,
      "outputs": [
        {
          "output_type": "execute_result",
          "data": {
            "text/plain": [
              "(100,)"
            ]
          },
          "metadata": {},
          "execution_count": 13
        }
      ]
    },
    {
      "cell_type": "code",
      "source": [
        "type(X[:, 1])\n",
        "X[:, 1].ndim\n",
        "X[:,1].shape"
      ],
      "metadata": {
        "id": "ZcV70OCQdgYa",
        "outputId": "badafcc3-0a19-4a45-f5a2-a9dd9668d1ce",
        "colab": {
          "base_uri": "https://localhost:8080/"
        }
      },
      "execution_count": 18,
      "outputs": [
        {
          "output_type": "execute_result",
          "data": {
            "text/plain": [
              "(100,)"
            ]
          },
          "metadata": {},
          "execution_count": 18
        }
      ]
    },
    {
      "cell_type": "code",
      "source": [
        "\n",
        "sns.scatterplot(x=X[:, 0], y=X[:, 1], hue=y)"
      ],
      "metadata": {
        "id": "3GRDCWud7iPi",
        "outputId": "7fd94def-5ffc-4397-8779-d1ce5851c64c",
        "colab": {
          "base_uri": "https://localhost:8080/",
          "height": 447
        }
      },
      "execution_count": 14,
      "outputs": [
        {
          "output_type": "execute_result",
          "data": {
            "text/plain": [
              "<Axes: >"
            ]
          },
          "metadata": {},
          "execution_count": 14
        },
        {
          "output_type": "display_data",
          "data": {
            "text/plain": [
              "<Figure size 640x480 with 1 Axes>"
            ],
            "image/png": "[encoded data removed]"
          },
          "metadata": {}
        }
      ]
    },
    {
      "cell_type": "code",
      "source": [
        "X_train, X_test, y_train, y_test = train_test_split(X, y, test_size=0.20, random_state=2)"
      ],
      "metadata": {
        "id": "fNGCOgHFz396"
      },
      "execution_count": 19,
      "outputs": []
    },
    {
      "cell_type": "code",
      "source": [
        "# define model\n",
        "model = Sequential()\n",
        "\n",
        "model.add(Dense(256, input_dim=2, activation='relu'))\n",
        "model.add(Dense(1, activation='sigmoid'))"
      ],
      "metadata": {
        "id": "fN6s_E6-0S9c"
      },
      "execution_count": 20,
      "outputs": []
    },
    {
      "cell_type": "code",
      "source": [
        "from tensorflow.keras.utils import plot_model\n",
        "\n",
        "\n",
        "# Compile the model (necessary for visualization in some environments)\n",
        "# model.compile(optimizer='adam', loss='binary_crossentropy', metrics=['accuracy'])\n",
        "\n",
        "# Visualize the model\n",
        "plot_model(model, to_file='model_plot.png', show_shapes=True, show_layer_names=True)\n",
        "\n",
        "# This line is to display the image in a Jupyter notebook (optional)\n",
        "from IPython.display import Image\n",
        "Image(filename='model_plot.png')\n"
      ],
      "metadata": {
        "id": "PlZXE7HAMFrl",
        "outputId": "9dce7d08-e2a8-4e8f-9bae-f3af64b6ba99",
        "colab": {
          "base_uri": "https://localhost:8080/",
          "height": 312
        }
      },
      "execution_count": 21,
      "outputs": [
        {
          "output_type": "execute_result",
          "data": {
            "image/png": "[encoded data removed]",
            "text/plain": [
              "<IPython.core.display.Image object>"
            ]
          },
          "metadata": {},
          "execution_count": 21
        }
      ]
    },
    {
      "cell_type": "code",
      "source": [
        "model.compile(loss='binary_crossentropy', optimizer='adam', metrics=['accuracy'])"
      ],
      "metadata": {
        "id": "HJet6I080ZJc"
      },
      "execution_count": 22,
      "outputs": []
    },
    {
      "cell_type": "code",
      "source": [
        "history = model.fit(X_train, y_train, validation_data=(X_test, y_test), epochs=3500, verbose=0)"
      ],
      "metadata": {
        "id": "vjZCAexQ0eVx"
      },
      "execution_count": 23,
      "outputs": []
    },
    {
      "cell_type": "code",
      "source": [
        "history"
      ],
      "metadata": {
        "id": "ugv_Fnmw8-h6",
        "outputId": "d7a40dc6-cf48-45ba-bcda-97a4aa69e05c",
        "colab": {
          "base_uri": "https://localhost:8080/"
        }
      },
      "execution_count": 24,
      "outputs": [
        {
          "output_type": "execute_result",
          "data": {
            "text/plain": [
              "<keras.src.callbacks.History at 0x7a4277943310>"
            ]
          },
          "metadata": {},
          "execution_count": 24
        }
      ]
    },
    {
      "cell_type": "code",
      "source": [
        "plt.plot(history.history['loss'], label='train')\n",
        "plt.plot(history.history['val_loss'], label='test')\n",
        "plt.legend()\n",
        "plt.show()"
      ],
      "metadata": {
        "colab": {
          "base_uri": "https://localhost:8080/",
          "height": 430
        },
        "id": "zTaTaYBa0kxh",
        "outputId": "63d7128f-39d7-442e-cc70-3127e1ddb2c6"
      },
      "execution_count": 25,
      "outputs": [
        {
          "output_type": "display_data",
          "data": {
            "text/plain": [
              "<Figure size 640x480 with 1 Axes>"
            ],
            "image/png": "[encoded data removed]"
          },
          "metadata": {}
        }
      ]
    },
    {
      "cell_type": "code",
      "source": [
        "y_pred=(model.predict(X_test)>0.5)\n",
        "print(type(y_pred))\n",
        "print(y_pred[0][0])\n",
        "# print(y_pred.astype(int))\n",
        "y_pred=y_pred.astype(int).ravel()\n",
        "\n",
        "\n",
        "\n",
        "print(y_pred.shape)\n",
        "print(y_test.shape)\n",
        "print(y_pred)"
      ],
      "metadata": {
        "id": "JcyQ7LW8RbZW",
        "outputId": "ffa3be90-b687-42f5-e1d5-89705e9e85eb",
        "colab": {
          "base_uri": "https://localhost:8080/"
        }
      },
      "execution_count": 60,
      "outputs": [
        {
          "output_type": "stream",
          "name": "stdout",
          "text": [
            "1/1 [==============================] - 0s 39ms/step\n",
            "<class 'numpy.ndarray'>\n",
            "True\n",
            "(20,)\n",
            "(20,)\n",
            "[1 0 1 1 0 1 0 0 0 0 0 1 0 1 1 0 1 1 0 0]\n"
          ]
        }
      ]
    },
    {
      "cell_type": "code",
      "source": [
        "print('accuracy',sum(y_pred==y_test)/len(y_test)*100)"
      ],
      "metadata": {
        "id": "RAdZU32pgYR2",
        "outputId": "78a940d2-b36f-497d-9cb5-3529232a0b57",
        "colab": {
          "base_uri": "https://localhost:8080/"
        }
      },
      "execution_count": 65,
      "outputs": [
        {
          "output_type": "stream",
          "name": "stdout",
          "text": [
            "accuracy 60.0\n"
          ]
        }
      ]
    },
    {
      "cell_type": "code",
      "source": [
        "plot_decision_regions(X_test, y_test.ravel(), clf = model, legend=2)\n",
        "plt.show()\n"
      ],
      "metadata": {
        "colab": {
          "base_uri": "https://localhost:8080/",
          "height": 447
        },
        "id": "jxrBHiX204K9",
        "outputId": "7af8cd8a-6e51-44b9-dd24-4b5ab9337320"
      },
      "execution_count": 66,
      "outputs": [
        {
          "output_type": "stream",
          "name": "stdout",
          "text": [
            "9600/9600 [==============================] - 15s 2ms/step\n"
          ]
        },
        {
          "output_type": "display_data",
          "data": {
            "text/plain": [
              "<Figure size 640x480 with 1 Axes>"
            ],
            "image/png": "[encoded data removed]"
          },
          "metadata": {}
        }
      ]
    },
    {
      "cell_type": "markdown",
      "source": [
        "# Early Stopping"
      ],
      "metadata": {
        "id": "n4fSIQyo3Ygb"
      }
    },
    {
      "cell_type": "code",
      "source": [
        "model = Sequential()\n",
        "\n",
        "model.add(Dense(256, input_dim=2, activation='relu'))\n",
        "model.add(Dense(1, activation='sigmoid'))"
      ],
      "metadata": {
        "id": "lLmuwxI03kmC"
      },
      "execution_count": 67,
      "outputs": []
    },
    {
      "cell_type": "code",
      "source": [
        "model.compile(loss='binary_crossentropy', optimizer='adam', metrics=['accuracy'])"
      ],
      "metadata": {
        "id": "mN6J_WdZ4FBo"
      },
      "execution_count": 68,
      "outputs": []
    },
    {
      "cell_type": "code",
      "source": [
        "callback = EarlyStopping(\n",
        "    monitor=\"val_loss\",\n",
        "    min_delta=0.0001,\n",
        "    patience=40,\n",
        "    verbose=1,\n",
        "    mode=\"auto\",\n",
        "    baseline=None,\n",
        "    restore_best_weights=False\n",
        ")"
      ],
      "metadata": {
        "id": "G7mLk0WD4e5v"
      },
      "execution_count": 72,
      "outputs": []
    },
    {
      "cell_type": "code",
      "source": [
        "history = model.fit(X_train, y_train, validation_data=(X_test, y_test), epochs=3500, callbacks=callback)"
      ],
      "metadata": {
        "colab": {
          "base_uri": "https://localhost:8080/"
        },
        "id": "_tubCoFf4-Xz",
        "outputId": "fd553ec6-5486-4282-a4ba-08ec08e10c54"
      },
      "execution_count": 73,
      "outputs": [
        {
          "output_type": "stream",
          "name": "stdout",
          "text": [
            "Epoch 1/3500\n",
            "3/3 [==============================] - 0s 110ms/step - loss: 0.6648 - accuracy: 0.5875 - val_loss: 0.7182 - val_accuracy: 0.4500\n",
            "Epoch 2/3500\n",
            "3/3 [==============================] - 0s 59ms/step - loss: 0.6640 - accuracy: 0.6000 - val_loss: 0.7190 - val_accuracy: 0.4500\n",
            "Epoch 3/3500\n",
            "3/3 [==============================] - 0s 67ms/step - loss: 0.6635 - accuracy: 0.6000 - val_loss: 0.7194 - val_accuracy: 0.4500\n",
            "Epoch 4/3500\n",
            "3/3 [==============================] - 0s 55ms/step - loss: 0.6627 - accuracy: 0.6000 - val_loss: 0.7194 - val_accuracy: 0.4500\n",
            "Epoch 5/3500\n",
            "3/3 [==============================] - 0s 73ms/step - loss: 0.6619 - accuracy: 0.5875 - val_loss: 0.7194 - val_accuracy: 0.4500\n",
            "Epoch 6/3500\n",
            "3/3 [==============================] - 0s 47ms/step - loss: 0.6612 - accuracy: 0.5875 - val_loss: 0.7198 - val_accuracy: 0.4500\n",
            "Epoch 7/3500\n",
            "3/3 [==============================] - 0s 53ms/step - loss: 0.6604 - accuracy: 0.6125 - val_loss: 0.7197 - val_accuracy: 0.4500\n",
            "Epoch 8/3500\n",
            "3/3 [==============================] - 0s 57ms/step - loss: 0.6598 - accuracy: 0.6125 - val_loss: 0.7196 - val_accuracy: 0.4500\n",
            "Epoch 9/3500\n",
            "3/3 [==============================] - 0s 54ms/step - loss: 0.6589 - accuracy: 0.6125 - val_loss: 0.7195 - val_accuracy: 0.4500\n",
            "Epoch 10/3500\n",
            "3/3 [==============================] - 0s 55ms/step - loss: 0.6584 - accuracy: 0.6125 - val_loss: 0.7196 - val_accuracy: 0.4500\n",
            "Epoch 11/3500\n",
            "3/3 [==============================] - 0s 54ms/step - loss: 0.6573 - accuracy: 0.6250 - val_loss: 0.7199 - val_accuracy: 0.4500\n",
            "Epoch 12/3500\n",
            "3/3 [==============================] - 0s 70ms/step - loss: 0.6566 - accuracy: 0.6125 - val_loss: 0.7198 - val_accuracy: 0.4000\n",
            "Epoch 13/3500\n",
            "3/3 [==============================] - 0s 46ms/step - loss: 0.6557 - accuracy: 0.6125 - val_loss: 0.7198 - val_accuracy: 0.4000\n",
            "Epoch 14/3500\n",
            "3/3 [==============================] - 0s 61ms/step - loss: 0.6552 - accuracy: 0.6250 - val_loss: 0.7199 - val_accuracy: 0.3500\n",
            "Epoch 15/3500\n",
            "3/3 [==============================] - 0s 39ms/step - loss: 0.6545 - accuracy: 0.6375 - val_loss: 0.7191 - val_accuracy: 0.3500\n",
            "Epoch 16/3500\n",
            "3/3 [==============================] - 0s 35ms/step - loss: 0.6533 - accuracy: 0.6500 - val_loss: 0.7189 - val_accuracy: 0.3500\n",
            "Epoch 17/3500\n",
            "3/3 [==============================] - 0s 41ms/step - loss: 0.6525 - accuracy: 0.6500 - val_loss: 0.7191 - val_accuracy: 0.3500\n",
            "Epoch 18/3500\n",
            "3/3 [==============================] - 0s 35ms/step - loss: 0.6522 - accuracy: 0.6375 - val_loss: 0.7192 - val_accuracy: 0.3500\n",
            "Epoch 19/3500\n",
            "3/3 [==============================] - 0s 31ms/step - loss: 0.6511 - accuracy: 0.6375 - val_loss: 0.7202 - val_accuracy: 0.4000\n",
            "Epoch 20/3500\n",
            "3/3 [==============================] - 0s 35ms/step - loss: 0.6499 - accuracy: 0.6500 - val_loss: 0.7192 - val_accuracy: 0.4000\n",
            "Epoch 21/3500\n",
            "3/3 [==============================] - 0s 31ms/step - loss: 0.6494 - accuracy: 0.6625 - val_loss: 0.7170 - val_accuracy: 0.4000\n",
            "Epoch 22/3500\n",
            "3/3 [==============================] - 0s 35ms/step - loss: 0.6484 - accuracy: 0.6625 - val_loss: 0.7152 - val_accuracy: 0.4000\n",
            "Epoch 23/3500\n",
            "3/3 [==============================] - 0s 28ms/step - loss: 0.6471 - accuracy: 0.6625 - val_loss: 0.7139 - val_accuracy: 0.5000\n",
            "Epoch 24/3500\n",
            "3/3 [==============================] - 0s 21ms/step - loss: 0.6465 - accuracy: 0.6500 - val_loss: 0.7138 - val_accuracy: 0.5500\n",
            "Epoch 25/3500\n",
            "3/3 [==============================] - 0s 17ms/step - loss: 0.6453 - accuracy: 0.6500 - val_loss: 0.7132 - val_accuracy: 0.5000\n",
            "Epoch 26/3500\n",
            "3/3 [==============================] - 0s 17ms/step - loss: 0.6444 - accuracy: 0.6500 - val_loss: 0.7124 - val_accuracy: 0.5000\n",
            "Epoch 27/3500\n",
            "3/3 [==============================] - 0s 19ms/step - loss: 0.6441 - accuracy: 0.6625 - val_loss: 0.7110 - val_accuracy: 0.5000\n",
            "Epoch 28/3500\n",
            "3/3 [==============================] - 0s 17ms/step - loss: 0.6425 - accuracy: 0.6750 - val_loss: 0.7106 - val_accuracy: 0.5000\n",
            "Epoch 29/3500\n",
            "3/3 [==============================] - 0s 17ms/step - loss: 0.6416 - accuracy: 0.6875 - val_loss: 0.7103 - val_accuracy: 0.5000\n",
            "Epoch 30/3500\n",
            "3/3 [==============================] - 0s 18ms/step - loss: 0.6405 - accuracy: 0.6875 - val_loss: 0.7104 - val_accuracy: 0.5500\n",
            "Epoch 31/3500\n",
            "3/3 [==============================] - 0s 18ms/step - loss: 0.6395 - accuracy: 0.6875 - val_loss: 0.7094 - val_accuracy: 0.5500\n",
            "Epoch 32/3500\n",
            "3/3 [==============================] - 0s 17ms/step - loss: 0.6387 - accuracy: 0.6875 - val_loss: 0.7103 - val_accuracy: 0.5500\n",
            "Epoch 33/3500\n",
            "3/3 [==============================] - 0s 20ms/step - loss: 0.6373 - accuracy: 0.6875 - val_loss: 0.7105 - val_accuracy: 0.5500\n",
            "Epoch 34/3500\n",
            "3/3 [==============================] - 0s 23ms/step - loss: 0.6364 - accuracy: 0.7000 - val_loss: 0.7108 - val_accuracy: 0.6000\n",
            "Epoch 35/3500\n",
            "3/3 [==============================] - 0s 20ms/step - loss: 0.6349 - accuracy: 0.7000 - val_loss: 0.7104 - val_accuracy: 0.6000\n",
            "Epoch 36/3500\n",
            "3/3 [==============================] - 0s 19ms/step - loss: 0.6341 - accuracy: 0.7000 - val_loss: 0.7102 - val_accuracy: 0.6000\n",
            "Epoch 37/3500\n",
            "3/3 [==============================] - 0s 20ms/step - loss: 0.6329 - accuracy: 0.7125 - val_loss: 0.7095 - val_accuracy: 0.6000\n",
            "Epoch 38/3500\n",
            "3/3 [==============================] - 0s 19ms/step - loss: 0.6318 - accuracy: 0.7125 - val_loss: 0.7080 - val_accuracy: 0.6000\n",
            "Epoch 39/3500\n",
            "3/3 [==============================] - 0s 17ms/step - loss: 0.6307 - accuracy: 0.7125 - val_loss: 0.7082 - val_accuracy: 0.6000\n",
            "Epoch 40/3500\n",
            "3/3 [==============================] - 0s 17ms/step - loss: 0.6298 - accuracy: 0.7250 - val_loss: 0.7074 - val_accuracy: 0.5500\n",
            "Epoch 41/3500\n",
            "3/3 [==============================] - 0s 29ms/step - loss: 0.6286 - accuracy: 0.7250 - val_loss: 0.7074 - val_accuracy: 0.5500\n",
            "Epoch 42/3500\n",
            "3/3 [==============================] - 0s 28ms/step - loss: 0.6273 - accuracy: 0.7250 - val_loss: 0.7066 - val_accuracy: 0.5500\n",
            "Epoch 43/3500\n",
            "3/3 [==============================] - 0s 28ms/step - loss: 0.6265 - accuracy: 0.7375 - val_loss: 0.7056 - val_accuracy: 0.6000\n",
            "Epoch 44/3500\n",
            "3/3 [==============================] - 0s 19ms/step - loss: 0.6252 - accuracy: 0.7500 - val_loss: 0.7041 - val_accuracy: 0.6500\n",
            "Epoch 45/3500\n",
            "3/3 [==============================] - 0s 22ms/step - loss: 0.6241 - accuracy: 0.7625 - val_loss: 0.7033 - val_accuracy: 0.6500\n",
            "Epoch 46/3500\n",
            "3/3 [==============================] - 0s 19ms/step - loss: 0.6230 - accuracy: 0.7625 - val_loss: 0.7019 - val_accuracy: 0.6500\n",
            "Epoch 47/3500\n",
            "3/3 [==============================] - 0s 18ms/step - loss: 0.6218 - accuracy: 0.7625 - val_loss: 0.7002 - val_accuracy: 0.6500\n",
            "Epoch 48/3500\n",
            "3/3 [==============================] - 0s 20ms/step - loss: 0.6209 - accuracy: 0.7625 - val_loss: 0.6988 - val_accuracy: 0.6500\n",
            "Epoch 49/3500\n",
            "3/3 [==============================] - 0s 17ms/step - loss: 0.6199 - accuracy: 0.7625 - val_loss: 0.6990 - val_accuracy: 0.7000\n",
            "Epoch 50/3500\n",
            "3/3 [==============================] - 0s 19ms/step - loss: 0.6187 - accuracy: 0.7625 - val_loss: 0.7006 - val_accuracy: 0.7000\n",
            "Epoch 51/3500\n",
            "3/3 [==============================] - 0s 18ms/step - loss: 0.6173 - accuracy: 0.7625 - val_loss: 0.7015 - val_accuracy: 0.6500\n",
            "Epoch 52/3500\n",
            "3/3 [==============================] - 0s 19ms/step - loss: 0.6164 - accuracy: 0.7625 - val_loss: 0.7024 - val_accuracy: 0.6500\n",
            "Epoch 53/3500\n",
            "3/3 [==============================] - 0s 30ms/step - loss: 0.6150 - accuracy: 0.7625 - val_loss: 0.7027 - val_accuracy: 0.6500\n",
            "Epoch 54/3500\n",
            "3/3 [==============================] - 0s 21ms/step - loss: 0.6138 - accuracy: 0.7625 - val_loss: 0.7031 - val_accuracy: 0.6500\n",
            "Epoch 55/3500\n",
            "3/3 [==============================] - 0s 18ms/step - loss: 0.6127 - accuracy: 0.7500 - val_loss: 0.7035 - val_accuracy: 0.7000\n",
            "Epoch 56/3500\n",
            "3/3 [==============================] - 0s 18ms/step - loss: 0.6118 - accuracy: 0.7625 - val_loss: 0.7013 - val_accuracy: 0.7000\n",
            "Epoch 57/3500\n",
            "3/3 [==============================] - 0s 18ms/step - loss: 0.6104 - accuracy: 0.7875 - val_loss: 0.7026 - val_accuracy: 0.7000\n",
            "Epoch 58/3500\n",
            "3/3 [==============================] - 0s 17ms/step - loss: 0.6097 - accuracy: 0.7750 - val_loss: 0.7008 - val_accuracy: 0.6000\n",
            "Epoch 59/3500\n",
            "3/3 [==============================] - 0s 19ms/step - loss: 0.6077 - accuracy: 0.7750 - val_loss: 0.6992 - val_accuracy: 0.6500\n",
            "Epoch 60/3500\n",
            "3/3 [==============================] - 0s 17ms/step - loss: 0.6065 - accuracy: 0.7875 - val_loss: 0.6970 - val_accuracy: 0.7000\n",
            "Epoch 61/3500\n",
            "3/3 [==============================] - 0s 17ms/step - loss: 0.6052 - accuracy: 0.7875 - val_loss: 0.6963 - val_accuracy: 0.7000\n",
            "Epoch 62/3500\n",
            "3/3 [==============================] - 0s 28ms/step - loss: 0.6044 - accuracy: 0.7875 - val_loss: 0.6964 - val_accuracy: 0.7000\n",
            "Epoch 63/3500\n",
            "3/3 [==============================] - 0s 17ms/step - loss: 0.6032 - accuracy: 0.7875 - val_loss: 0.6953 - val_accuracy: 0.7000\n",
            "Epoch 64/3500\n",
            "3/3 [==============================] - 0s 18ms/step - loss: 0.6020 - accuracy: 0.7750 - val_loss: 0.6953 - val_accuracy: 0.7000\n",
            "Epoch 65/3500\n",
            "3/3 [==============================] - 0s 28ms/step - loss: 0.6007 - accuracy: 0.7750 - val_loss: 0.6968 - val_accuracy: 0.7000\n",
            "Epoch 66/3500\n",
            "3/3 [==============================] - 0s 17ms/step - loss: 0.5997 - accuracy: 0.7750 - val_loss: 0.6981 - val_accuracy: 0.6500\n",
            "Epoch 67/3500\n",
            "3/3 [==============================] - 0s 17ms/step - loss: 0.5981 - accuracy: 0.7750 - val_loss: 0.6979 - val_accuracy: 0.6500\n",
            "Epoch 68/3500\n",
            "3/3 [==============================] - 0s 19ms/step - loss: 0.5974 - accuracy: 0.7750 - val_loss: 0.6975 - val_accuracy: 0.7000\n",
            "Epoch 69/3500\n",
            "3/3 [==============================] - 0s 16ms/step - loss: 0.5956 - accuracy: 0.7875 - val_loss: 0.6969 - val_accuracy: 0.7000\n",
            "Epoch 70/3500\n",
            "3/3 [==============================] - 0s 17ms/step - loss: 0.5943 - accuracy: 0.7875 - val_loss: 0.6961 - val_accuracy: 0.6500\n",
            "Epoch 71/3500\n",
            "3/3 [==============================] - 0s 18ms/step - loss: 0.5932 - accuracy: 0.8000 - val_loss: 0.6955 - val_accuracy: 0.6500\n",
            "Epoch 72/3500\n",
            "3/3 [==============================] - 0s 22ms/step - loss: 0.5920 - accuracy: 0.7875 - val_loss: 0.6952 - val_accuracy: 0.6500\n",
            "Epoch 73/3500\n",
            "3/3 [==============================] - 0s 18ms/step - loss: 0.5914 - accuracy: 0.7625 - val_loss: 0.6943 - val_accuracy: 0.6500\n",
            "Epoch 74/3500\n",
            "3/3 [==============================] - 0s 22ms/step - loss: 0.5898 - accuracy: 0.7875 - val_loss: 0.6929 - val_accuracy: 0.6500\n",
            "Epoch 75/3500\n",
            "3/3 [==============================] - 0s 18ms/step - loss: 0.5887 - accuracy: 0.8000 - val_loss: 0.6908 - val_accuracy: 0.6500\n",
            "Epoch 76/3500\n",
            "3/3 [==============================] - 0s 17ms/step - loss: 0.5876 - accuracy: 0.8000 - val_loss: 0.6901 - val_accuracy: 0.7000\n",
            "Epoch 77/3500\n",
            "3/3 [==============================] - 0s 17ms/step - loss: 0.5859 - accuracy: 0.8000 - val_loss: 0.6879 - val_accuracy: 0.7000\n",
            "Epoch 78/3500\n",
            "3/3 [==============================] - 0s 18ms/step - loss: 0.5854 - accuracy: 0.8375 - val_loss: 0.6847 - val_accuracy: 0.7000\n",
            "Epoch 79/3500\n",
            "3/3 [==============================] - 0s 17ms/step - loss: 0.5837 - accuracy: 0.8250 - val_loss: 0.6855 - val_accuracy: 0.5500\n",
            "Epoch 80/3500\n",
            "3/3 [==============================] - 0s 17ms/step - loss: 0.5820 - accuracy: 0.8375 - val_loss: 0.6884 - val_accuracy: 0.5500\n",
            "Epoch 81/3500\n",
            "3/3 [==============================] - 0s 18ms/step - loss: 0.5806 - accuracy: 0.8125 - val_loss: 0.6903 - val_accuracy: 0.5500\n",
            "Epoch 82/3500\n",
            "3/3 [==============================] - 0s 17ms/step - loss: 0.5794 - accuracy: 0.8000 - val_loss: 0.6917 - val_accuracy: 0.5000\n",
            "Epoch 83/3500\n",
            "3/3 [==============================] - 0s 26ms/step - loss: 0.5782 - accuracy: 0.7750 - val_loss: 0.6924 - val_accuracy: 0.5500\n",
            "Epoch 84/3500\n",
            "3/3 [==============================] - 0s 17ms/step - loss: 0.5775 - accuracy: 0.7750 - val_loss: 0.6931 - val_accuracy: 0.5500\n",
            "Epoch 85/3500\n",
            "3/3 [==============================] - 0s 17ms/step - loss: 0.5767 - accuracy: 0.7750 - val_loss: 0.6924 - val_accuracy: 0.5500\n",
            "Epoch 86/3500\n",
            "3/3 [==============================] - 0s 18ms/step - loss: 0.5750 - accuracy: 0.7875 - val_loss: 0.6912 - val_accuracy: 0.5000\n",
            "Epoch 87/3500\n",
            "3/3 [==============================] - 0s 16ms/step - loss: 0.5734 - accuracy: 0.7875 - val_loss: 0.6880 - val_accuracy: 0.5500\n",
            "Epoch 88/3500\n",
            "3/3 [==============================] - 0s 17ms/step - loss: 0.5717 - accuracy: 0.8250 - val_loss: 0.6851 - val_accuracy: 0.6000\n",
            "Epoch 89/3500\n",
            "3/3 [==============================] - 0s 18ms/step - loss: 0.5701 - accuracy: 0.8250 - val_loss: 0.6837 - val_accuracy: 0.7000\n",
            "Epoch 90/3500\n",
            "3/3 [==============================] - 0s 17ms/step - loss: 0.5697 - accuracy: 0.8250 - val_loss: 0.6840 - val_accuracy: 0.6500\n",
            "Epoch 91/3500\n",
            "3/3 [==============================] - 0s 18ms/step - loss: 0.5685 - accuracy: 0.8250 - val_loss: 0.6833 - val_accuracy: 0.6500\n",
            "Epoch 92/3500\n",
            "3/3 [==============================] - 0s 19ms/step - loss: 0.5679 - accuracy: 0.8250 - val_loss: 0.6826 - val_accuracy: 0.6500\n",
            "Epoch 93/3500\n",
            "3/3 [==============================] - 0s 17ms/step - loss: 0.5657 - accuracy: 0.8250 - val_loss: 0.6853 - val_accuracy: 0.6500\n",
            "Epoch 94/3500\n",
            "3/3 [==============================] - 0s 17ms/step - loss: 0.5648 - accuracy: 0.8125 - val_loss: 0.6865 - val_accuracy: 0.6000\n",
            "Epoch 95/3500\n",
            "3/3 [==============================] - 0s 27ms/step - loss: 0.5633 - accuracy: 0.8250 - val_loss: 0.6885 - val_accuracy: 0.6500\n",
            "Epoch 96/3500\n",
            "3/3 [==============================] - 0s 27ms/step - loss: 0.5634 - accuracy: 0.8125 - val_loss: 0.6920 - val_accuracy: 0.5500\n",
            "Epoch 97/3500\n",
            "3/3 [==============================] - 0s 26ms/step - loss: 0.5610 - accuracy: 0.8125 - val_loss: 0.6910 - val_accuracy: 0.5500\n",
            "Epoch 98/3500\n",
            "3/3 [==============================] - 0s 17ms/step - loss: 0.5596 - accuracy: 0.8125 - val_loss: 0.6870 - val_accuracy: 0.5500\n",
            "Epoch 99/3500\n",
            "3/3 [==============================] - 0s 17ms/step - loss: 0.5578 - accuracy: 0.8250 - val_loss: 0.6831 - val_accuracy: 0.6000\n",
            "Epoch 100/3500\n",
            "3/3 [==============================] - 0s 19ms/step - loss: 0.5570 - accuracy: 0.8250 - val_loss: 0.6783 - val_accuracy: 0.6500\n",
            "Epoch 101/3500\n",
            "3/3 [==============================] - 0s 17ms/step - loss: 0.5555 - accuracy: 0.8250 - val_loss: 0.6750 - val_accuracy: 0.6500\n",
            "Epoch 102/3500\n",
            "3/3 [==============================] - 0s 17ms/step - loss: 0.5546 - accuracy: 0.8250 - val_loss: 0.6710 - val_accuracy: 0.6500\n",
            "Epoch 103/3500\n",
            "3/3 [==============================] - 0s 18ms/step - loss: 0.5527 - accuracy: 0.8250 - val_loss: 0.6702 - val_accuracy: 0.6500\n",
            "Epoch 104/3500\n",
            "3/3 [==============================] - 0s 17ms/step - loss: 0.5520 - accuracy: 0.8125 - val_loss: 0.6705 - val_accuracy: 0.6500\n",
            "Epoch 105/3500\n",
            "3/3 [==============================] - 0s 25ms/step - loss: 0.5503 - accuracy: 0.8125 - val_loss: 0.6706 - val_accuracy: 0.7000\n",
            "Epoch 106/3500\n",
            "3/3 [==============================] - 0s 19ms/step - loss: 0.5491 - accuracy: 0.8125 - val_loss: 0.6710 - val_accuracy: 0.6500\n",
            "Epoch 107/3500\n",
            "3/3 [==============================] - 0s 21ms/step - loss: 0.5475 - accuracy: 0.8250 - val_loss: 0.6698 - val_accuracy: 0.7000\n",
            "Epoch 108/3500\n",
            "3/3 [==============================] - 0s 17ms/step - loss: 0.5464 - accuracy: 0.8375 - val_loss: 0.6688 - val_accuracy: 0.6500\n",
            "Epoch 109/3500\n",
            "3/3 [==============================] - 0s 23ms/step - loss: 0.5454 - accuracy: 0.8375 - val_loss: 0.6683 - val_accuracy: 0.6500\n",
            "Epoch 110/3500\n",
            "3/3 [==============================] - 0s 17ms/step - loss: 0.5438 - accuracy: 0.8375 - val_loss: 0.6669 - val_accuracy: 0.6500\n",
            "Epoch 111/3500\n",
            "3/3 [==============================] - 0s 17ms/step - loss: 0.5430 - accuracy: 0.8375 - val_loss: 0.6652 - val_accuracy: 0.7000\n",
            "Epoch 112/3500\n",
            "3/3 [==============================] - 0s 19ms/step - loss: 0.5410 - accuracy: 0.8375 - val_loss: 0.6653 - val_accuracy: 0.7000\n",
            "Epoch 113/3500\n",
            "3/3 [==============================] - 0s 18ms/step - loss: 0.5398 - accuracy: 0.8250 - val_loss: 0.6650 - val_accuracy: 0.6500\n",
            "Epoch 114/3500\n",
            "3/3 [==============================] - 0s 18ms/step - loss: 0.5390 - accuracy: 0.8125 - val_loss: 0.6653 - val_accuracy: 0.7000\n",
            "Epoch 115/3500\n",
            "3/3 [==============================] - 0s 18ms/step - loss: 0.5374 - accuracy: 0.8125 - val_loss: 0.6659 - val_accuracy: 0.6500\n",
            "Epoch 116/3500\n",
            "3/3 [==============================] - 0s 19ms/step - loss: 0.5365 - accuracy: 0.8250 - val_loss: 0.6656 - val_accuracy: 0.6500\n",
            "Epoch 117/3500\n",
            "3/3 [==============================] - 0s 23ms/step - loss: 0.5355 - accuracy: 0.8500 - val_loss: 0.6659 - val_accuracy: 0.6000\n",
            "Epoch 118/3500\n",
            "3/3 [==============================] - 0s 19ms/step - loss: 0.5334 - accuracy: 0.8500 - val_loss: 0.6658 - val_accuracy: 0.6500\n",
            "Epoch 119/3500\n",
            "3/3 [==============================] - 0s 17ms/step - loss: 0.5320 - accuracy: 0.8500 - val_loss: 0.6631 - val_accuracy: 0.6500\n",
            "Epoch 120/3500\n",
            "3/3 [==============================] - 0s 18ms/step - loss: 0.5310 - accuracy: 0.8375 - val_loss: 0.6602 - val_accuracy: 0.6500\n",
            "Epoch 121/3500\n",
            "3/3 [==============================] - 0s 19ms/step - loss: 0.5295 - accuracy: 0.8375 - val_loss: 0.6575 - val_accuracy: 0.6500\n",
            "Epoch 122/3500\n",
            "3/3 [==============================] - 0s 17ms/step - loss: 0.5285 - accuracy: 0.8250 - val_loss: 0.6547 - val_accuracy: 0.6500\n",
            "Epoch 123/3500\n",
            "3/3 [==============================] - 0s 18ms/step - loss: 0.5270 - accuracy: 0.8250 - val_loss: 0.6550 - val_accuracy: 0.6500\n",
            "Epoch 124/3500\n",
            "3/3 [==============================] - 0s 17ms/step - loss: 0.5260 - accuracy: 0.8250 - val_loss: 0.6571 - val_accuracy: 0.6500\n",
            "Epoch 125/3500\n",
            "3/3 [==============================] - 0s 18ms/step - loss: 0.5244 - accuracy: 0.8375 - val_loss: 0.6596 - val_accuracy: 0.6500\n",
            "Epoch 126/3500\n",
            "3/3 [==============================] - 0s 20ms/step - loss: 0.5237 - accuracy: 0.8500 - val_loss: 0.6619 - val_accuracy: 0.6000\n",
            "Epoch 127/3500\n",
            "3/3 [==============================] - 0s 16ms/step - loss: 0.5226 - accuracy: 0.8500 - val_loss: 0.6630 - val_accuracy: 0.6000\n",
            "Epoch 128/3500\n",
            "3/3 [==============================] - 0s 17ms/step - loss: 0.5206 - accuracy: 0.8375 - val_loss: 0.6634 - val_accuracy: 0.6500\n",
            "Epoch 129/3500\n",
            "3/3 [==============================] - 0s 19ms/step - loss: 0.5196 - accuracy: 0.8375 - val_loss: 0.6637 - val_accuracy: 0.6000\n",
            "Epoch 130/3500\n",
            "3/3 [==============================] - 0s 18ms/step - loss: 0.5184 - accuracy: 0.8500 - val_loss: 0.6628 - val_accuracy: 0.6000\n",
            "Epoch 131/3500\n",
            "3/3 [==============================] - 0s 18ms/step - loss: 0.5171 - accuracy: 0.8500 - val_loss: 0.6612 - val_accuracy: 0.6000\n",
            "Epoch 132/3500\n",
            "3/3 [==============================] - 0s 21ms/step - loss: 0.5154 - accuracy: 0.8375 - val_loss: 0.6562 - val_accuracy: 0.6000\n",
            "Epoch 133/3500\n",
            "3/3 [==============================] - 0s 17ms/step - loss: 0.5139 - accuracy: 0.8375 - val_loss: 0.6532 - val_accuracy: 0.6500\n",
            "Epoch 134/3500\n",
            "3/3 [==============================] - 0s 18ms/step - loss: 0.5131 - accuracy: 0.8375 - val_loss: 0.6519 - val_accuracy: 0.6500\n",
            "Epoch 135/3500\n",
            "3/3 [==============================] - 0s 18ms/step - loss: 0.5119 - accuracy: 0.8250 - val_loss: 0.6493 - val_accuracy: 0.6000\n",
            "Epoch 136/3500\n",
            "3/3 [==============================] - 0s 17ms/step - loss: 0.5104 - accuracy: 0.8375 - val_loss: 0.6491 - val_accuracy: 0.6000\n",
            "Epoch 137/3500\n",
            "3/3 [==============================] - 0s 17ms/step - loss: 0.5089 - accuracy: 0.8375 - val_loss: 0.6490 - val_accuracy: 0.6500\n",
            "Epoch 138/3500\n",
            "3/3 [==============================] - 0s 19ms/step - loss: 0.5086 - accuracy: 0.8375 - val_loss: 0.6504 - val_accuracy: 0.6500\n",
            "Epoch 139/3500\n",
            "3/3 [==============================] - 0s 22ms/step - loss: 0.5070 - accuracy: 0.8375 - val_loss: 0.6509 - val_accuracy: 0.6500\n",
            "Epoch 140/3500\n",
            "3/3 [==============================] - 0s 20ms/step - loss: 0.5054 - accuracy: 0.8375 - val_loss: 0.6498 - val_accuracy: 0.6500\n",
            "Epoch 141/3500\n",
            "3/3 [==============================] - 0s 17ms/step - loss: 0.5042 - accuracy: 0.8250 - val_loss: 0.6498 - val_accuracy: 0.6500\n",
            "Epoch 142/3500\n",
            "3/3 [==============================] - 0s 17ms/step - loss: 0.5025 - accuracy: 0.8375 - val_loss: 0.6507 - val_accuracy: 0.6500\n",
            "Epoch 143/3500\n",
            "3/3 [==============================] - 0s 18ms/step - loss: 0.5018 - accuracy: 0.8375 - val_loss: 0.6512 - val_accuracy: 0.6000\n",
            "Epoch 144/3500\n",
            "3/3 [==============================] - 0s 19ms/step - loss: 0.5008 - accuracy: 0.8375 - val_loss: 0.6509 - val_accuracy: 0.6000\n",
            "Epoch 145/3500\n",
            "3/3 [==============================] - 0s 17ms/step - loss: 0.4989 - accuracy: 0.8375 - val_loss: 0.6480 - val_accuracy: 0.6000\n",
            "Epoch 146/3500\n",
            "3/3 [==============================] - 0s 17ms/step - loss: 0.4978 - accuracy: 0.8375 - val_loss: 0.6451 - val_accuracy: 0.6000\n",
            "Epoch 147/3500\n",
            "3/3 [==============================] - 0s 28ms/step - loss: 0.4978 - accuracy: 0.8375 - val_loss: 0.6407 - val_accuracy: 0.6000\n",
            "Epoch 148/3500\n",
            "3/3 [==============================] - 0s 18ms/step - loss: 0.4954 - accuracy: 0.8375 - val_loss: 0.6396 - val_accuracy: 0.6000\n",
            "Epoch 149/3500\n",
            "3/3 [==============================] - 0s 19ms/step - loss: 0.4943 - accuracy: 0.8375 - val_loss: 0.6384 - val_accuracy: 0.6000\n",
            "Epoch 150/3500\n",
            "3/3 [==============================] - 0s 19ms/step - loss: 0.4931 - accuracy: 0.8375 - val_loss: 0.6385 - val_accuracy: 0.6000\n",
            "Epoch 151/3500\n",
            "3/3 [==============================] - 0s 18ms/step - loss: 0.4926 - accuracy: 0.8375 - val_loss: 0.6379 - val_accuracy: 0.6000\n",
            "Epoch 152/3500\n",
            "3/3 [==============================] - 0s 19ms/step - loss: 0.4909 - accuracy: 0.8625 - val_loss: 0.6363 - val_accuracy: 0.6500\n",
            "Epoch 153/3500\n",
            "3/3 [==============================] - 0s 18ms/step - loss: 0.4894 - accuracy: 0.8500 - val_loss: 0.6343 - val_accuracy: 0.6500\n",
            "Epoch 154/3500\n",
            "3/3 [==============================] - 0s 17ms/step - loss: 0.4883 - accuracy: 0.8500 - val_loss: 0.6336 - val_accuracy: 0.5500\n",
            "Epoch 155/3500\n",
            "3/3 [==============================] - 0s 19ms/step - loss: 0.4876 - accuracy: 0.8500 - val_loss: 0.6329 - val_accuracy: 0.5500\n",
            "Epoch 156/3500\n",
            "3/3 [==============================] - 0s 17ms/step - loss: 0.4859 - accuracy: 0.8500 - val_loss: 0.6308 - val_accuracy: 0.5500\n",
            "Epoch 157/3500\n",
            "3/3 [==============================] - 0s 18ms/step - loss: 0.4843 - accuracy: 0.8500 - val_loss: 0.6296 - val_accuracy: 0.5500\n",
            "Epoch 158/3500\n",
            "3/3 [==============================] - 0s 19ms/step - loss: 0.4832 - accuracy: 0.8625 - val_loss: 0.6308 - val_accuracy: 0.5500\n",
            "Epoch 159/3500\n",
            "3/3 [==============================] - 0s 18ms/step - loss: 0.4817 - accuracy: 0.8500 - val_loss: 0.6327 - val_accuracy: 0.5500\n",
            "Epoch 160/3500\n",
            "3/3 [==============================] - 0s 23ms/step - loss: 0.4810 - accuracy: 0.8375 - val_loss: 0.6339 - val_accuracy: 0.6500\n",
            "Epoch 161/3500\n",
            "3/3 [==============================] - 0s 19ms/step - loss: 0.4795 - accuracy: 0.8250 - val_loss: 0.6330 - val_accuracy: 0.6500\n",
            "Epoch 162/3500\n",
            "3/3 [==============================] - 0s 26ms/step - loss: 0.4781 - accuracy: 0.8500 - val_loss: 0.6301 - val_accuracy: 0.6500\n",
            "Epoch 163/3500\n",
            "3/3 [==============================] - 0s 18ms/step - loss: 0.4775 - accuracy: 0.8500 - val_loss: 0.6277 - val_accuracy: 0.6500\n",
            "Epoch 164/3500\n",
            "3/3 [==============================] - 0s 21ms/step - loss: 0.4755 - accuracy: 0.8500 - val_loss: 0.6276 - val_accuracy: 0.6000\n",
            "Epoch 165/3500\n",
            "3/3 [==============================] - 0s 17ms/step - loss: 0.4747 - accuracy: 0.8500 - val_loss: 0.6282 - val_accuracy: 0.6000\n",
            "Epoch 166/3500\n",
            "3/3 [==============================] - 0s 17ms/step - loss: 0.4734 - accuracy: 0.8625 - val_loss: 0.6265 - val_accuracy: 0.6000\n",
            "Epoch 167/3500\n",
            "3/3 [==============================] - 0s 18ms/step - loss: 0.4727 - accuracy: 0.8500 - val_loss: 0.6254 - val_accuracy: 0.6000\n",
            "Epoch 168/3500\n",
            "3/3 [==============================] - 0s 18ms/step - loss: 0.4720 - accuracy: 0.8625 - val_loss: 0.6236 - val_accuracy: 0.6500\n",
            "Epoch 169/3500\n",
            "3/3 [==============================] - 0s 17ms/step - loss: 0.4709 - accuracy: 0.8750 - val_loss: 0.6201 - val_accuracy: 0.7000\n",
            "Epoch 170/3500\n",
            "3/3 [==============================] - 0s 27ms/step - loss: 0.4683 - accuracy: 0.8625 - val_loss: 0.6207 - val_accuracy: 0.6500\n",
            "Epoch 171/3500\n",
            "3/3 [==============================] - 0s 19ms/step - loss: 0.4673 - accuracy: 0.8500 - val_loss: 0.6211 - val_accuracy: 0.6500\n",
            "Epoch 172/3500\n",
            "3/3 [==============================] - 0s 17ms/step - loss: 0.4671 - accuracy: 0.8625 - val_loss: 0.6215 - val_accuracy: 0.6500\n",
            "Epoch 173/3500\n",
            "3/3 [==============================] - 0s 18ms/step - loss: 0.4664 - accuracy: 0.8625 - val_loss: 0.6210 - val_accuracy: 0.6500\n",
            "Epoch 174/3500\n",
            "3/3 [==============================] - 0s 19ms/step - loss: 0.4649 - accuracy: 0.8625 - val_loss: 0.6223 - val_accuracy: 0.6500\n",
            "Epoch 175/3500\n",
            "3/3 [==============================] - 0s 18ms/step - loss: 0.4647 - accuracy: 0.8625 - val_loss: 0.6255 - val_accuracy: 0.6000\n",
            "Epoch 176/3500\n",
            "3/3 [==============================] - 0s 18ms/step - loss: 0.4624 - accuracy: 0.8625 - val_loss: 0.6264 - val_accuracy: 0.6000\n",
            "Epoch 177/3500\n",
            "3/3 [==============================] - 0s 20ms/step - loss: 0.4613 - accuracy: 0.8500 - val_loss: 0.6258 - val_accuracy: 0.6000\n",
            "Epoch 178/3500\n",
            "3/3 [==============================] - 0s 18ms/step - loss: 0.4600 - accuracy: 0.8500 - val_loss: 0.6219 - val_accuracy: 0.6000\n",
            "Epoch 179/3500\n",
            "3/3 [==============================] - 0s 18ms/step - loss: 0.4587 - accuracy: 0.8500 - val_loss: 0.6208 - val_accuracy: 0.6000\n",
            "Epoch 180/3500\n",
            "3/3 [==============================] - 0s 32ms/step - loss: 0.4580 - accuracy: 0.8625 - val_loss: 0.6171 - val_accuracy: 0.6500\n",
            "Epoch 181/3500\n",
            "3/3 [==============================] - 0s 18ms/step - loss: 0.4567 - accuracy: 0.8625 - val_loss: 0.6160 - val_accuracy: 0.7000\n",
            "Epoch 182/3500\n",
            "3/3 [==============================] - 0s 17ms/step - loss: 0.4563 - accuracy: 0.8500 - val_loss: 0.6141 - val_accuracy: 0.6000\n",
            "Epoch 183/3500\n",
            "3/3 [==============================] - 0s 18ms/step - loss: 0.4555 - accuracy: 0.8625 - val_loss: 0.6139 - val_accuracy: 0.6500\n",
            "Epoch 184/3500\n",
            "3/3 [==============================] - 0s 17ms/step - loss: 0.4537 - accuracy: 0.8625 - val_loss: 0.6117 - val_accuracy: 0.7000\n",
            "Epoch 185/3500\n",
            "3/3 [==============================] - 0s 19ms/step - loss: 0.4525 - accuracy: 0.8750 - val_loss: 0.6097 - val_accuracy: 0.7000\n",
            "Epoch 186/3500\n",
            "3/3 [==============================] - 0s 18ms/step - loss: 0.4516 - accuracy: 0.8750 - val_loss: 0.6088 - val_accuracy: 0.7000\n",
            "Epoch 187/3500\n",
            "3/3 [==============================] - 0s 26ms/step - loss: 0.4515 - accuracy: 0.8750 - val_loss: 0.6100 - val_accuracy: 0.7000\n",
            "Epoch 188/3500\n",
            "3/3 [==============================] - 0s 19ms/step - loss: 0.4500 - accuracy: 0.8625 - val_loss: 0.6090 - val_accuracy: 0.7000\n",
            "Epoch 189/3500\n",
            "3/3 [==============================] - 0s 17ms/step - loss: 0.4486 - accuracy: 0.8750 - val_loss: 0.6084 - val_accuracy: 0.6500\n",
            "Epoch 190/3500\n",
            "3/3 [==============================] - 0s 19ms/step - loss: 0.4472 - accuracy: 0.8750 - val_loss: 0.6095 - val_accuracy: 0.6500\n",
            "Epoch 191/3500\n",
            "3/3 [==============================] - 0s 19ms/step - loss: 0.4457 - accuracy: 0.8625 - val_loss: 0.6114 - val_accuracy: 0.6500\n",
            "Epoch 192/3500\n",
            "3/3 [==============================] - 0s 19ms/step - loss: 0.4448 - accuracy: 0.8625 - val_loss: 0.6137 - val_accuracy: 0.6000\n",
            "Epoch 193/3500\n",
            "3/3 [==============================] - 0s 21ms/step - loss: 0.4450 - accuracy: 0.8750 - val_loss: 0.6136 - val_accuracy: 0.7000\n",
            "Epoch 194/3500\n",
            "3/3 [==============================] - 0s 19ms/step - loss: 0.4445 - accuracy: 0.8625 - val_loss: 0.6110 - val_accuracy: 0.7000\n",
            "Epoch 195/3500\n",
            "3/3 [==============================] - 0s 18ms/step - loss: 0.4418 - accuracy: 0.8750 - val_loss: 0.6098 - val_accuracy: 0.6500\n",
            "Epoch 196/3500\n",
            "3/3 [==============================] - 0s 17ms/step - loss: 0.4408 - accuracy: 0.8750 - val_loss: 0.6114 - val_accuracy: 0.6500\n",
            "Epoch 197/3500\n",
            "3/3 [==============================] - 0s 28ms/step - loss: 0.4400 - accuracy: 0.8625 - val_loss: 0.6119 - val_accuracy: 0.6500\n",
            "Epoch 198/3500\n",
            "3/3 [==============================] - 0s 18ms/step - loss: 0.4386 - accuracy: 0.8625 - val_loss: 0.6111 - val_accuracy: 0.6500\n",
            "Epoch 199/3500\n",
            "3/3 [==============================] - 0s 19ms/step - loss: 0.4379 - accuracy: 0.8625 - val_loss: 0.6100 - val_accuracy: 0.6500\n",
            "Epoch 200/3500\n",
            "3/3 [==============================] - 0s 17ms/step - loss: 0.4367 - accuracy: 0.8625 - val_loss: 0.6101 - val_accuracy: 0.6500\n",
            "Epoch 201/3500\n",
            "3/3 [==============================] - 0s 24ms/step - loss: 0.4368 - accuracy: 0.8750 - val_loss: 0.6060 - val_accuracy: 0.7000\n",
            "Epoch 202/3500\n",
            "3/3 [==============================] - 0s 18ms/step - loss: 0.4355 - accuracy: 0.8625 - val_loss: 0.6039 - val_accuracy: 0.6500\n",
            "Epoch 203/3500\n",
            "3/3 [==============================] - 0s 17ms/step - loss: 0.4342 - accuracy: 0.8750 - val_loss: 0.5994 - val_accuracy: 0.7000\n",
            "Epoch 204/3500\n",
            "3/3 [==============================] - 0s 17ms/step - loss: 0.4329 - accuracy: 0.8750 - val_loss: 0.5965 - val_accuracy: 0.7000\n",
            "Epoch 205/3500\n",
            "3/3 [==============================] - 0s 19ms/step - loss: 0.4323 - accuracy: 0.8750 - val_loss: 0.5947 - val_accuracy: 0.7000\n",
            "Epoch 206/3500\n",
            "3/3 [==============================] - 0s 18ms/step - loss: 0.4317 - accuracy: 0.8750 - val_loss: 0.5930 - val_accuracy: 0.7000\n",
            "Epoch 207/3500\n",
            "3/3 [==============================] - 0s 17ms/step - loss: 0.4311 - accuracy: 0.8750 - val_loss: 0.5943 - val_accuracy: 0.6500\n",
            "Epoch 208/3500\n",
            "3/3 [==============================] - 0s 17ms/step - loss: 0.4301 - accuracy: 0.8750 - val_loss: 0.5959 - val_accuracy: 0.6500\n",
            "Epoch 209/3500\n",
            "3/3 [==============================] - 0s 18ms/step - loss: 0.4299 - accuracy: 0.8750 - val_loss: 0.5984 - val_accuracy: 0.6500\n",
            "Epoch 210/3500\n",
            "3/3 [==============================] - 0s 18ms/step - loss: 0.4278 - accuracy: 0.8750 - val_loss: 0.6000 - val_accuracy: 0.6500\n",
            "Epoch 211/3500\n",
            "3/3 [==============================] - 0s 18ms/step - loss: 0.4268 - accuracy: 0.8750 - val_loss: 0.6007 - val_accuracy: 0.7000\n",
            "Epoch 212/3500\n",
            "3/3 [==============================] - 0s 20ms/step - loss: 0.4257 - accuracy: 0.8750 - val_loss: 0.6032 - val_accuracy: 0.7000\n",
            "Epoch 213/3500\n",
            "3/3 [==============================] - 0s 18ms/step - loss: 0.4247 - accuracy: 0.8750 - val_loss: 0.6056 - val_accuracy: 0.7000\n",
            "Epoch 214/3500\n",
            "3/3 [==============================] - 0s 27ms/step - loss: 0.4239 - accuracy: 0.8750 - val_loss: 0.6072 - val_accuracy: 0.6500\n",
            "Epoch 215/3500\n",
            "3/3 [==============================] - 0s 16ms/step - loss: 0.4230 - accuracy: 0.8750 - val_loss: 0.6051 - val_accuracy: 0.6500\n",
            "Epoch 216/3500\n",
            "3/3 [==============================] - 0s 17ms/step - loss: 0.4215 - accuracy: 0.8750 - val_loss: 0.6022 - val_accuracy: 0.7000\n",
            "Epoch 217/3500\n",
            "3/3 [==============================] - 0s 17ms/step - loss: 0.4212 - accuracy: 0.8750 - val_loss: 0.5981 - val_accuracy: 0.7000\n",
            "Epoch 218/3500\n",
            "3/3 [==============================] - 0s 17ms/step - loss: 0.4195 - accuracy: 0.8750 - val_loss: 0.5963 - val_accuracy: 0.6500\n",
            "Epoch 219/3500\n",
            "3/3 [==============================] - 0s 19ms/step - loss: 0.4192 - accuracy: 0.8750 - val_loss: 0.5948 - val_accuracy: 0.6500\n",
            "Epoch 220/3500\n",
            "3/3 [==============================] - 0s 17ms/step - loss: 0.4189 - accuracy: 0.8750 - val_loss: 0.5950 - val_accuracy: 0.6500\n",
            "Epoch 221/3500\n",
            "3/3 [==============================] - 0s 19ms/step - loss: 0.4178 - accuracy: 0.8875 - val_loss: 0.5971 - val_accuracy: 0.6500\n",
            "Epoch 222/3500\n",
            "3/3 [==============================] - 0s 17ms/step - loss: 0.4181 - accuracy: 0.8875 - val_loss: 0.5981 - val_accuracy: 0.6500\n",
            "Epoch 223/3500\n",
            "3/3 [==============================] - 0s 24ms/step - loss: 0.4164 - accuracy: 0.8875 - val_loss: 0.6007 - val_accuracy: 0.6500\n",
            "Epoch 224/3500\n",
            "3/3 [==============================] - 0s 19ms/step - loss: 0.4157 - accuracy: 0.8875 - val_loss: 0.6008 - val_accuracy: 0.6500\n",
            "Epoch 225/3500\n",
            "3/3 [==============================] - 0s 18ms/step - loss: 0.4142 - accuracy: 0.8750 - val_loss: 0.6030 - val_accuracy: 0.6000\n",
            "Epoch 226/3500\n",
            "3/3 [==============================] - 0s 18ms/step - loss: 0.4131 - accuracy: 0.8750 - val_loss: 0.6042 - val_accuracy: 0.6500\n",
            "Epoch 227/3500\n",
            "3/3 [==============================] - 0s 17ms/step - loss: 0.4135 - accuracy: 0.8750 - val_loss: 0.6076 - val_accuracy: 0.6500\n",
            "Epoch 228/3500\n",
            "3/3 [==============================] - 0s 21ms/step - loss: 0.4123 - accuracy: 0.8625 - val_loss: 0.6079 - val_accuracy: 0.6500\n",
            "Epoch 229/3500\n",
            "3/3 [==============================] - 0s 32ms/step - loss: 0.4109 - accuracy: 0.8750 - val_loss: 0.6080 - val_accuracy: 0.6500\n",
            "Epoch 230/3500\n",
            "3/3 [==============================] - 0s 32ms/step - loss: 0.4106 - accuracy: 0.8625 - val_loss: 0.6058 - val_accuracy: 0.6500\n",
            "Epoch 231/3500\n",
            "3/3 [==============================] - 0s 33ms/step - loss: 0.4088 - accuracy: 0.8750 - val_loss: 0.6007 - val_accuracy: 0.7000\n",
            "Epoch 232/3500\n",
            "3/3 [==============================] - 0s 30ms/step - loss: 0.4078 - accuracy: 0.8750 - val_loss: 0.5980 - val_accuracy: 0.7000\n",
            "Epoch 233/3500\n",
            "3/3 [==============================] - 0s 28ms/step - loss: 0.4081 - accuracy: 0.8625 - val_loss: 0.5950 - val_accuracy: 0.6500\n",
            "Epoch 234/3500\n",
            "3/3 [==============================] - 0s 30ms/step - loss: 0.4073 - accuracy: 0.8625 - val_loss: 0.5959 - val_accuracy: 0.6500\n",
            "Epoch 235/3500\n",
            "3/3 [==============================] - 0s 33ms/step - loss: 0.4075 - accuracy: 0.8750 - val_loss: 0.5956 - val_accuracy: 0.6500\n",
            "Epoch 236/3500\n",
            "3/3 [==============================] - 0s 32ms/step - loss: 0.4060 - accuracy: 0.8750 - val_loss: 0.5954 - val_accuracy: 0.6500\n",
            "Epoch 237/3500\n",
            "3/3 [==============================] - 0s 34ms/step - loss: 0.4041 - accuracy: 0.8750 - val_loss: 0.5943 - val_accuracy: 0.7000\n",
            "Epoch 238/3500\n",
            "3/3 [==============================] - 0s 35ms/step - loss: 0.4024 - accuracy: 0.8750 - val_loss: 0.5935 - val_accuracy: 0.7000\n",
            "Epoch 239/3500\n",
            "3/3 [==============================] - 0s 32ms/step - loss: 0.4022 - accuracy: 0.8750 - val_loss: 0.5918 - val_accuracy: 0.7000\n",
            "Epoch 240/3500\n",
            "3/3 [==============================] - 0s 41ms/step - loss: 0.4014 - accuracy: 0.8875 - val_loss: 0.5895 - val_accuracy: 0.7000\n",
            "Epoch 241/3500\n",
            "3/3 [==============================] - 0s 33ms/step - loss: 0.4013 - accuracy: 0.8875 - val_loss: 0.5872 - val_accuracy: 0.7000\n",
            "Epoch 242/3500\n",
            "3/3 [==============================] - 0s 25ms/step - loss: 0.4015 - accuracy: 0.8875 - val_loss: 0.5839 - val_accuracy: 0.7000\n",
            "Epoch 243/3500\n",
            "3/3 [==============================] - 0s 36ms/step - loss: 0.4000 - accuracy: 0.8875 - val_loss: 0.5849 - val_accuracy: 0.7000\n",
            "Epoch 244/3500\n",
            "3/3 [==============================] - 0s 36ms/step - loss: 0.3982 - accuracy: 0.8875 - val_loss: 0.5858 - val_accuracy: 0.7000\n",
            "Epoch 245/3500\n",
            "3/3 [==============================] - 0s 37ms/step - loss: 0.3981 - accuracy: 0.8750 - val_loss: 0.5867 - val_accuracy: 0.7000\n",
            "Epoch 246/3500\n",
            "3/3 [==============================] - 0s 35ms/step - loss: 0.3967 - accuracy: 0.8750 - val_loss: 0.5910 - val_accuracy: 0.7000\n",
            "Epoch 247/3500\n",
            "3/3 [==============================] - 0s 36ms/step - loss: 0.3953 - accuracy: 0.8750 - val_loss: 0.5937 - val_accuracy: 0.7000\n",
            "Epoch 248/3500\n",
            "3/3 [==============================] - 0s 35ms/step - loss: 0.3946 - accuracy: 0.8750 - val_loss: 0.5946 - val_accuracy: 0.6500\n",
            "Epoch 249/3500\n",
            "3/3 [==============================] - 0s 41ms/step - loss: 0.3946 - accuracy: 0.8875 - val_loss: 0.5958 - val_accuracy: 0.7000\n",
            "Epoch 250/3500\n",
            "3/3 [==============================] - 0s 34ms/step - loss: 0.3936 - accuracy: 0.8875 - val_loss: 0.5957 - val_accuracy: 0.7000\n",
            "Epoch 251/3500\n",
            "3/3 [==============================] - 0s 31ms/step - loss: 0.3932 - accuracy: 0.8750 - val_loss: 0.5966 - val_accuracy: 0.6500\n",
            "Epoch 252/3500\n",
            "3/3 [==============================] - 0s 35ms/step - loss: 0.3919 - accuracy: 0.8750 - val_loss: 0.5939 - val_accuracy: 0.6500\n",
            "Epoch 253/3500\n",
            "3/3 [==============================] - 0s 37ms/step - loss: 0.3914 - accuracy: 0.8750 - val_loss: 0.5909 - val_accuracy: 0.6000\n",
            "Epoch 254/3500\n",
            "3/3 [==============================] - 0s 33ms/step - loss: 0.3905 - accuracy: 0.8875 - val_loss: 0.5897 - val_accuracy: 0.6500\n",
            "Epoch 255/3500\n",
            "3/3 [==============================] - 0s 35ms/step - loss: 0.3902 - accuracy: 0.8875 - val_loss: 0.5885 - val_accuracy: 0.6500\n",
            "Epoch 256/3500\n",
            "3/3 [==============================] - 0s 34ms/step - loss: 0.3886 - accuracy: 0.8875 - val_loss: 0.5849 - val_accuracy: 0.7000\n",
            "Epoch 257/3500\n",
            "3/3 [==============================] - 0s 37ms/step - loss: 0.3894 - accuracy: 0.8875 - val_loss: 0.5810 - val_accuracy: 0.7000\n",
            "Epoch 258/3500\n",
            "3/3 [==============================] - 0s 32ms/step - loss: 0.3884 - accuracy: 0.8875 - val_loss: 0.5817 - val_accuracy: 0.7000\n",
            "Epoch 259/3500\n",
            "3/3 [==============================] - 0s 28ms/step - loss: 0.3868 - accuracy: 0.8875 - val_loss: 0.5827 - val_accuracy: 0.7000\n",
            "Epoch 260/3500\n",
            "3/3 [==============================] - 0s 35ms/step - loss: 0.3860 - accuracy: 0.8875 - val_loss: 0.5837 - val_accuracy: 0.7000\n",
            "Epoch 261/3500\n",
            "3/3 [==============================] - 0s 33ms/step - loss: 0.3845 - accuracy: 0.8875 - val_loss: 0.5848 - val_accuracy: 0.7000\n",
            "Epoch 262/3500\n",
            "3/3 [==============================] - 0s 34ms/step - loss: 0.3846 - accuracy: 0.8875 - val_loss: 0.5868 - val_accuracy: 0.6500\n",
            "Epoch 263/3500\n",
            "3/3 [==============================] - 0s 38ms/step - loss: 0.3836 - accuracy: 0.8875 - val_loss: 0.5868 - val_accuracy: 0.6500\n",
            "Epoch 264/3500\n",
            "3/3 [==============================] - 0s 27ms/step - loss: 0.3832 - accuracy: 0.8875 - val_loss: 0.5867 - val_accuracy: 0.6500\n",
            "Epoch 265/3500\n",
            "3/3 [==============================] - 0s 20ms/step - loss: 0.3819 - accuracy: 0.8875 - val_loss: 0.5856 - val_accuracy: 0.6500\n",
            "Epoch 266/3500\n",
            "3/3 [==============================] - 0s 23ms/step - loss: 0.3810 - accuracy: 0.8875 - val_loss: 0.5854 - val_accuracy: 0.7000\n",
            "Epoch 267/3500\n",
            "3/3 [==============================] - 0s 21ms/step - loss: 0.3809 - accuracy: 0.8875 - val_loss: 0.5870 - val_accuracy: 0.7000\n",
            "Epoch 268/3500\n",
            "3/3 [==============================] - 0s 21ms/step - loss: 0.3809 - accuracy: 0.8750 - val_loss: 0.5865 - val_accuracy: 0.7000\n",
            "Epoch 269/3500\n",
            "3/3 [==============================] - 0s 18ms/step - loss: 0.3796 - accuracy: 0.8875 - val_loss: 0.5851 - val_accuracy: 0.7000\n",
            "Epoch 270/3500\n",
            "3/3 [==============================] - 0s 20ms/step - loss: 0.3784 - accuracy: 0.8875 - val_loss: 0.5846 - val_accuracy: 0.7000\n",
            "Epoch 271/3500\n",
            "3/3 [==============================] - 0s 18ms/step - loss: 0.3774 - accuracy: 0.8875 - val_loss: 0.5842 - val_accuracy: 0.7000\n",
            "Epoch 272/3500\n",
            "3/3 [==============================] - 0s 27ms/step - loss: 0.3783 - accuracy: 0.8875 - val_loss: 0.5856 - val_accuracy: 0.6500\n",
            "Epoch 273/3500\n",
            "3/3 [==============================] - 0s 20ms/step - loss: 0.3774 - accuracy: 0.8875 - val_loss: 0.5864 - val_accuracy: 0.6500\n",
            "Epoch 274/3500\n",
            "3/3 [==============================] - 0s 18ms/step - loss: 0.3767 - accuracy: 0.8875 - val_loss: 0.5864 - val_accuracy: 0.6500\n",
            "Epoch 275/3500\n",
            "3/3 [==============================] - 0s 22ms/step - loss: 0.3762 - accuracy: 0.8750 - val_loss: 0.5860 - val_accuracy: 0.7000\n",
            "Epoch 276/3500\n",
            "3/3 [==============================] - 0s 19ms/step - loss: 0.3759 - accuracy: 0.8875 - val_loss: 0.5831 - val_accuracy: 0.7000\n",
            "Epoch 277/3500\n",
            "3/3 [==============================] - 0s 19ms/step - loss: 0.3736 - accuracy: 0.8875 - val_loss: 0.5801 - val_accuracy: 0.7000\n",
            "Epoch 278/3500\n",
            "3/3 [==============================] - 0s 28ms/step - loss: 0.3734 - accuracy: 0.8875 - val_loss: 0.5792 - val_accuracy: 0.7000\n",
            "Epoch 279/3500\n",
            "3/3 [==============================] - 0s 19ms/step - loss: 0.3724 - accuracy: 0.8750 - val_loss: 0.5769 - val_accuracy: 0.7000\n",
            "Epoch 280/3500\n",
            "3/3 [==============================] - 0s 21ms/step - loss: 0.3726 - accuracy: 0.8875 - val_loss: 0.5769 - val_accuracy: 0.7000\n",
            "Epoch 281/3500\n",
            "3/3 [==============================] - 0s 18ms/step - loss: 0.3712 - accuracy: 0.8875 - val_loss: 0.5772 - val_accuracy: 0.7000\n",
            "Epoch 282/3500\n",
            "3/3 [==============================] - 0s 20ms/step - loss: 0.3708 - accuracy: 0.8875 - val_loss: 0.5791 - val_accuracy: 0.6500\n",
            "Epoch 283/3500\n",
            "3/3 [==============================] - 0s 18ms/step - loss: 0.3695 - accuracy: 0.8875 - val_loss: 0.5806 - val_accuracy: 0.6500\n",
            "Epoch 284/3500\n",
            "3/3 [==============================] - 0s 21ms/step - loss: 0.3693 - accuracy: 0.9000 - val_loss: 0.5813 - val_accuracy: 0.6500\n",
            "Epoch 285/3500\n",
            "3/3 [==============================] - 0s 19ms/step - loss: 0.3684 - accuracy: 0.9000 - val_loss: 0.5792 - val_accuracy: 0.6500\n",
            "Epoch 286/3500\n",
            "3/3 [==============================] - 0s 24ms/step - loss: 0.3678 - accuracy: 0.9000 - val_loss: 0.5783 - val_accuracy: 0.6500\n",
            "Epoch 287/3500\n",
            "3/3 [==============================] - 0s 19ms/step - loss: 0.3668 - accuracy: 0.9000 - val_loss: 0.5805 - val_accuracy: 0.6500\n",
            "Epoch 288/3500\n",
            "3/3 [==============================] - 0s 19ms/step - loss: 0.3663 - accuracy: 0.8875 - val_loss: 0.5817 - val_accuracy: 0.6500\n",
            "Epoch 289/3500\n",
            "3/3 [==============================] - 0s 19ms/step - loss: 0.3689 - accuracy: 0.8875 - val_loss: 0.5837 - val_accuracy: 0.6500\n",
            "Epoch 290/3500\n",
            "3/3 [==============================] - 0s 19ms/step - loss: 0.3661 - accuracy: 0.8875 - val_loss: 0.5869 - val_accuracy: 0.6500\n",
            "Epoch 291/3500\n",
            "3/3 [==============================] - 0s 18ms/step - loss: 0.3644 - accuracy: 0.8875 - val_loss: 0.5852 - val_accuracy: 0.6500\n",
            "Epoch 292/3500\n",
            "3/3 [==============================] - 0s 20ms/step - loss: 0.3640 - accuracy: 0.9000 - val_loss: 0.5824 - val_accuracy: 0.6500\n",
            "Epoch 293/3500\n",
            "3/3 [==============================] - 0s 18ms/step - loss: 0.3634 - accuracy: 0.9000 - val_loss: 0.5793 - val_accuracy: 0.6500\n",
            "Epoch 294/3500\n",
            "3/3 [==============================] - 0s 20ms/step - loss: 0.3626 - accuracy: 0.9000 - val_loss: 0.5794 - val_accuracy: 0.6500\n",
            "Epoch 295/3500\n",
            "3/3 [==============================] - 0s 19ms/step - loss: 0.3619 - accuracy: 0.9000 - val_loss: 0.5802 - val_accuracy: 0.7000\n",
            "Epoch 296/3500\n",
            "3/3 [==============================] - 0s 20ms/step - loss: 0.3610 - accuracy: 0.9000 - val_loss: 0.5798 - val_accuracy: 0.7000\n",
            "Epoch 297/3500\n",
            "3/3 [==============================] - 0s 20ms/step - loss: 0.3619 - accuracy: 0.8875 - val_loss: 0.5781 - val_accuracy: 0.7000\n",
            "Epoch 298/3500\n",
            "3/3 [==============================] - 0s 19ms/step - loss: 0.3600 - accuracy: 0.8875 - val_loss: 0.5768 - val_accuracy: 0.7000\n",
            "Epoch 299/3500\n",
            "3/3 [==============================] - 0s 21ms/step - loss: 0.3591 - accuracy: 0.8875 - val_loss: 0.5770 - val_accuracy: 0.7000\n",
            "Epoch 300/3500\n",
            "3/3 [==============================] - 0s 21ms/step - loss: 0.3592 - accuracy: 0.8875 - val_loss: 0.5799 - val_accuracy: 0.7000\n",
            "Epoch 301/3500\n",
            "3/3 [==============================] - 0s 20ms/step - loss: 0.3586 - accuracy: 0.8875 - val_loss: 0.5814 - val_accuracy: 0.6500\n",
            "Epoch 302/3500\n",
            "3/3 [==============================] - 0s 19ms/step - loss: 0.3578 - accuracy: 0.8875 - val_loss: 0.5806 - val_accuracy: 0.6500\n",
            "Epoch 303/3500\n",
            "3/3 [==============================] - 0s 19ms/step - loss: 0.3577 - accuracy: 0.8750 - val_loss: 0.5777 - val_accuracy: 0.6500\n",
            "Epoch 304/3500\n",
            "3/3 [==============================] - 0s 19ms/step - loss: 0.3570 - accuracy: 0.8875 - val_loss: 0.5767 - val_accuracy: 0.7000\n",
            "Epoch 305/3500\n",
            "3/3 [==============================] - 0s 28ms/step - loss: 0.3570 - accuracy: 0.8750 - val_loss: 0.5756 - val_accuracy: 0.7000\n",
            "Epoch 306/3500\n",
            "3/3 [==============================] - 0s 26ms/step - loss: 0.3565 - accuracy: 0.8875 - val_loss: 0.5750 - val_accuracy: 0.6500\n",
            "Epoch 307/3500\n",
            "3/3 [==============================] - 0s 22ms/step - loss: 0.3545 - accuracy: 0.8875 - val_loss: 0.5775 - val_accuracy: 0.6500\n",
            "Epoch 308/3500\n",
            "3/3 [==============================] - 0s 22ms/step - loss: 0.3537 - accuracy: 0.9000 - val_loss: 0.5772 - val_accuracy: 0.6500\n",
            "Epoch 309/3500\n",
            "3/3 [==============================] - 0s 20ms/step - loss: 0.3537 - accuracy: 0.9000 - val_loss: 0.5772 - val_accuracy: 0.6500\n",
            "Epoch 310/3500\n",
            "3/3 [==============================] - 0s 31ms/step - loss: 0.3539 - accuracy: 0.9000 - val_loss: 0.5749 - val_accuracy: 0.7000\n",
            "Epoch 311/3500\n",
            "3/3 [==============================] - 0s 21ms/step - loss: 0.3524 - accuracy: 0.9000 - val_loss: 0.5768 - val_accuracy: 0.6500\n",
            "Epoch 312/3500\n",
            "3/3 [==============================] - 0s 20ms/step - loss: 0.3512 - accuracy: 0.9000 - val_loss: 0.5772 - val_accuracy: 0.7000\n",
            "Epoch 313/3500\n",
            "3/3 [==============================] - 0s 24ms/step - loss: 0.3510 - accuracy: 0.8875 - val_loss: 0.5761 - val_accuracy: 0.7000\n",
            "Epoch 314/3500\n",
            "3/3 [==============================] - 0s 29ms/step - loss: 0.3504 - accuracy: 0.8875 - val_loss: 0.5755 - val_accuracy: 0.7000\n",
            "Epoch 315/3500\n",
            "3/3 [==============================] - 0s 22ms/step - loss: 0.3501 - accuracy: 0.8875 - val_loss: 0.5738 - val_accuracy: 0.7000\n",
            "Epoch 316/3500\n",
            "3/3 [==============================] - 0s 19ms/step - loss: 0.3492 - accuracy: 0.8875 - val_loss: 0.5729 - val_accuracy: 0.7000\n",
            "Epoch 317/3500\n",
            "3/3 [==============================] - 0s 21ms/step - loss: 0.3488 - accuracy: 0.8875 - val_loss: 0.5744 - val_accuracy: 0.6500\n",
            "Epoch 318/3500\n",
            "3/3 [==============================] - 0s 18ms/step - loss: 0.3480 - accuracy: 0.8875 - val_loss: 0.5737 - val_accuracy: 0.6500\n",
            "Epoch 319/3500\n",
            "3/3 [==============================] - 0s 24ms/step - loss: 0.3475 - accuracy: 0.8875 - val_loss: 0.5745 - val_accuracy: 0.6500\n",
            "Epoch 320/3500\n",
            "3/3 [==============================] - 0s 21ms/step - loss: 0.3469 - accuracy: 0.8875 - val_loss: 0.5753 - val_accuracy: 0.6500\n",
            "Epoch 321/3500\n",
            "3/3 [==============================] - 0s 28ms/step - loss: 0.3484 - accuracy: 0.8875 - val_loss: 0.5751 - val_accuracy: 0.7000\n",
            "Epoch 322/3500\n",
            "3/3 [==============================] - 0s 19ms/step - loss: 0.3460 - accuracy: 0.8875 - val_loss: 0.5784 - val_accuracy: 0.6500\n",
            "Epoch 323/3500\n",
            "3/3 [==============================] - 0s 20ms/step - loss: 0.3457 - accuracy: 0.9000 - val_loss: 0.5794 - val_accuracy: 0.6500\n",
            "Epoch 324/3500\n",
            "3/3 [==============================] - 0s 25ms/step - loss: 0.3447 - accuracy: 0.9000 - val_loss: 0.5825 - val_accuracy: 0.6500\n",
            "Epoch 325/3500\n",
            "3/3 [==============================] - 0s 20ms/step - loss: 0.3446 - accuracy: 0.9000 - val_loss: 0.5852 - val_accuracy: 0.6500\n",
            "Epoch 326/3500\n",
            "3/3 [==============================] - 0s 21ms/step - loss: 0.3447 - accuracy: 0.8875 - val_loss: 0.5847 - val_accuracy: 0.6500\n",
            "Epoch 327/3500\n",
            "3/3 [==============================] - 0s 19ms/step - loss: 0.3436 - accuracy: 0.8875 - val_loss: 0.5848 - val_accuracy: 0.6500\n",
            "Epoch 328/3500\n",
            "3/3 [==============================] - 0s 20ms/step - loss: 0.3429 - accuracy: 0.8875 - val_loss: 0.5832 - val_accuracy: 0.6500\n",
            "Epoch 329/3500\n",
            "3/3 [==============================] - 0s 21ms/step - loss: 0.3423 - accuracy: 0.8875 - val_loss: 0.5802 - val_accuracy: 0.7000\n",
            "Epoch 330/3500\n",
            "3/3 [==============================] - 0s 20ms/step - loss: 0.3420 - accuracy: 0.8875 - val_loss: 0.5759 - val_accuracy: 0.6500\n",
            "Epoch 331/3500\n",
            "3/3 [==============================] - 0s 19ms/step - loss: 0.3409 - accuracy: 0.8875 - val_loss: 0.5741 - val_accuracy: 0.6500\n",
            "Epoch 332/3500\n",
            "3/3 [==============================] - 0s 29ms/step - loss: 0.3409 - accuracy: 0.8875 - val_loss: 0.5726 - val_accuracy: 0.6500\n",
            "Epoch 333/3500\n",
            "3/3 [==============================] - 0s 18ms/step - loss: 0.3402 - accuracy: 0.9000 - val_loss: 0.5707 - val_accuracy: 0.6500\n",
            "Epoch 334/3500\n",
            "3/3 [==============================] - 0s 20ms/step - loss: 0.3395 - accuracy: 0.9000 - val_loss: 0.5700 - val_accuracy: 0.6500\n",
            "Epoch 335/3500\n",
            "3/3 [==============================] - 0s 19ms/step - loss: 0.3389 - accuracy: 0.9000 - val_loss: 0.5706 - val_accuracy: 0.6500\n",
            "Epoch 336/3500\n",
            "3/3 [==============================] - 0s 20ms/step - loss: 0.3386 - accuracy: 0.9000 - val_loss: 0.5716 - val_accuracy: 0.6500\n",
            "Epoch 337/3500\n",
            "3/3 [==============================] - 0s 20ms/step - loss: 0.3382 - accuracy: 0.9000 - val_loss: 0.5720 - val_accuracy: 0.7000\n",
            "Epoch 338/3500\n",
            "3/3 [==============================] - 0s 17ms/step - loss: 0.3378 - accuracy: 0.8875 - val_loss: 0.5709 - val_accuracy: 0.7000\n",
            "Epoch 339/3500\n",
            "3/3 [==============================] - 0s 27ms/step - loss: 0.3373 - accuracy: 0.8750 - val_loss: 0.5690 - val_accuracy: 0.7000\n",
            "Epoch 340/3500\n",
            "3/3 [==============================] - 0s 20ms/step - loss: 0.3365 - accuracy: 0.8750 - val_loss: 0.5691 - val_accuracy: 0.7000\n",
            "Epoch 341/3500\n",
            "3/3 [==============================] - 0s 21ms/step - loss: 0.3359 - accuracy: 0.8875 - val_loss: 0.5717 - val_accuracy: 0.6500\n",
            "Epoch 342/3500\n",
            "3/3 [==============================] - 0s 18ms/step - loss: 0.3355 - accuracy: 0.8875 - val_loss: 0.5741 - val_accuracy: 0.7000\n",
            "Epoch 343/3500\n",
            "3/3 [==============================] - 0s 21ms/step - loss: 0.3343 - accuracy: 0.9000 - val_loss: 0.5761 - val_accuracy: 0.7000\n",
            "Epoch 344/3500\n",
            "3/3 [==============================] - 0s 26ms/step - loss: 0.3344 - accuracy: 0.9000 - val_loss: 0.5792 - val_accuracy: 0.7000\n",
            "Epoch 345/3500\n",
            "3/3 [==============================] - 0s 30ms/step - loss: 0.3340 - accuracy: 0.9000 - val_loss: 0.5790 - val_accuracy: 0.7000\n",
            "Epoch 346/3500\n",
            "3/3 [==============================] - 0s 20ms/step - loss: 0.3347 - accuracy: 0.8875 - val_loss: 0.5807 - val_accuracy: 0.7000\n",
            "Epoch 347/3500\n",
            "3/3 [==============================] - 0s 19ms/step - loss: 0.3339 - accuracy: 0.8875 - val_loss: 0.5781 - val_accuracy: 0.7000\n",
            "Epoch 348/3500\n",
            "3/3 [==============================] - 0s 31ms/step - loss: 0.3324 - accuracy: 0.9000 - val_loss: 0.5732 - val_accuracy: 0.6500\n",
            "Epoch 349/3500\n",
            "3/3 [==============================] - 0s 18ms/step - loss: 0.3339 - accuracy: 0.9000 - val_loss: 0.5712 - val_accuracy: 0.6500\n",
            "Epoch 350/3500\n",
            "3/3 [==============================] - 0s 20ms/step - loss: 0.3322 - accuracy: 0.8875 - val_loss: 0.5696 - val_accuracy: 0.6500\n",
            "Epoch 351/3500\n",
            "3/3 [==============================] - 0s 20ms/step - loss: 0.3323 - accuracy: 0.8875 - val_loss: 0.5684 - val_accuracy: 0.6500\n",
            "Epoch 352/3500\n",
            "3/3 [==============================] - 0s 19ms/step - loss: 0.3319 - accuracy: 0.8875 - val_loss: 0.5688 - val_accuracy: 0.6500\n",
            "Epoch 353/3500\n",
            "3/3 [==============================] - 0s 23ms/step - loss: 0.3307 - accuracy: 0.8750 - val_loss: 0.5710 - val_accuracy: 0.7000\n",
            "Epoch 354/3500\n",
            "3/3 [==============================] - 0s 20ms/step - loss: 0.3298 - accuracy: 0.8875 - val_loss: 0.5742 - val_accuracy: 0.7000\n",
            "Epoch 355/3500\n",
            "3/3 [==============================] - 0s 19ms/step - loss: 0.3299 - accuracy: 0.9000 - val_loss: 0.5758 - val_accuracy: 0.7000\n",
            "Epoch 356/3500\n",
            "3/3 [==============================] - 0s 20ms/step - loss: 0.3292 - accuracy: 0.9000 - val_loss: 0.5756 - val_accuracy: 0.7000\n",
            "Epoch 357/3500\n",
            "3/3 [==============================] - 0s 18ms/step - loss: 0.3291 - accuracy: 0.9000 - val_loss: 0.5764 - val_accuracy: 0.7000\n",
            "Epoch 358/3500\n",
            "3/3 [==============================] - 0s 20ms/step - loss: 0.3284 - accuracy: 0.9000 - val_loss: 0.5770 - val_accuracy: 0.6500\n",
            "Epoch 359/3500\n",
            "3/3 [==============================] - 0s 23ms/step - loss: 0.3271 - accuracy: 0.9000 - val_loss: 0.5761 - val_accuracy: 0.6500\n",
            "Epoch 360/3500\n",
            "3/3 [==============================] - 0s 28ms/step - loss: 0.3280 - accuracy: 0.8750 - val_loss: 0.5765 - val_accuracy: 0.6500\n",
            "Epoch 361/3500\n",
            "3/3 [==============================] - 0s 23ms/step - loss: 0.3278 - accuracy: 0.8750 - val_loss: 0.5742 - val_accuracy: 0.6500\n",
            "Epoch 362/3500\n",
            "3/3 [==============================] - 0s 29ms/step - loss: 0.3280 - accuracy: 0.8750 - val_loss: 0.5745 - val_accuracy: 0.6500\n",
            "Epoch 363/3500\n",
            "3/3 [==============================] - 0s 22ms/step - loss: 0.3262 - accuracy: 0.8875 - val_loss: 0.5725 - val_accuracy: 0.6500\n",
            "Epoch 364/3500\n",
            "3/3 [==============================] - 0s 17ms/step - loss: 0.3248 - accuracy: 0.9000 - val_loss: 0.5690 - val_accuracy: 0.6500\n",
            "Epoch 365/3500\n",
            "3/3 [==============================] - 0s 19ms/step - loss: 0.3246 - accuracy: 0.8875 - val_loss: 0.5663 - val_accuracy: 0.6500\n",
            "Epoch 366/3500\n",
            "3/3 [==============================] - 0s 19ms/step - loss: 0.3242 - accuracy: 0.8875 - val_loss: 0.5632 - val_accuracy: 0.6500\n",
            "Epoch 367/3500\n",
            "3/3 [==============================] - 0s 19ms/step - loss: 0.3242 - accuracy: 0.8875 - val_loss: 0.5599 - val_accuracy: 0.6500\n",
            "Epoch 368/3500\n",
            "3/3 [==============================] - 0s 19ms/step - loss: 0.3243 - accuracy: 0.8875 - val_loss: 0.5588 - val_accuracy: 0.6500\n",
            "Epoch 369/3500\n",
            "3/3 [==============================] - 0s 18ms/step - loss: 0.3233 - accuracy: 0.8875 - val_loss: 0.5594 - val_accuracy: 0.6500\n",
            "Epoch 370/3500\n",
            "3/3 [==============================] - 0s 18ms/step - loss: 0.3229 - accuracy: 0.8875 - val_loss: 0.5615 - val_accuracy: 0.6500\n",
            "Epoch 371/3500\n",
            "3/3 [==============================] - 0s 19ms/step - loss: 0.3238 - accuracy: 0.8875 - val_loss: 0.5654 - val_accuracy: 0.6500\n",
            "Epoch 372/3500\n",
            "3/3 [==============================] - 0s 17ms/step - loss: 0.3231 - accuracy: 0.8875 - val_loss: 0.5694 - val_accuracy: 0.6500\n",
            "Epoch 373/3500\n",
            "3/3 [==============================] - 0s 22ms/step - loss: 0.3215 - accuracy: 0.8750 - val_loss: 0.5720 - val_accuracy: 0.6500\n",
            "Epoch 374/3500\n",
            "3/3 [==============================] - 0s 19ms/step - loss: 0.3206 - accuracy: 0.8875 - val_loss: 0.5739 - val_accuracy: 0.6500\n",
            "Epoch 375/3500\n",
            "3/3 [==============================] - 0s 22ms/step - loss: 0.3211 - accuracy: 0.9000 - val_loss: 0.5775 - val_accuracy: 0.6500\n",
            "Epoch 376/3500\n",
            "3/3 [==============================] - 0s 17ms/step - loss: 0.3194 - accuracy: 0.9000 - val_loss: 0.5772 - val_accuracy: 0.6500\n",
            "Epoch 377/3500\n",
            "3/3 [==============================] - 0s 20ms/step - loss: 0.3207 - accuracy: 0.9000 - val_loss: 0.5770 - val_accuracy: 0.7000\n",
            "Epoch 378/3500\n",
            "3/3 [==============================] - 0s 20ms/step - loss: 0.3199 - accuracy: 0.9000 - val_loss: 0.5731 - val_accuracy: 0.7000\n",
            "Epoch 379/3500\n",
            "3/3 [==============================] - 0s 19ms/step - loss: 0.3180 - accuracy: 0.8875 - val_loss: 0.5718 - val_accuracy: 0.6500\n",
            "Epoch 380/3500\n",
            "3/3 [==============================] - 0s 20ms/step - loss: 0.3178 - accuracy: 0.8875 - val_loss: 0.5706 - val_accuracy: 0.6500\n",
            "Epoch 381/3500\n",
            "3/3 [==============================] - 0s 20ms/step - loss: 0.3178 - accuracy: 0.8875 - val_loss: 0.5691 - val_accuracy: 0.6500\n",
            "Epoch 382/3500\n",
            "3/3 [==============================] - 0s 18ms/step - loss: 0.3185 - accuracy: 0.8875 - val_loss: 0.5668 - val_accuracy: 0.6500\n",
            "Epoch 383/3500\n",
            "3/3 [==============================] - 0s 26ms/step - loss: 0.3179 - accuracy: 0.8875 - val_loss: 0.5658 - val_accuracy: 0.6500\n",
            "Epoch 384/3500\n",
            "3/3 [==============================] - 0s 21ms/step - loss: 0.3166 - accuracy: 0.8875 - val_loss: 0.5650 - val_accuracy: 0.6500\n",
            "Epoch 385/3500\n",
            "3/3 [==============================] - 0s 19ms/step - loss: 0.3160 - accuracy: 0.8875 - val_loss: 0.5666 - val_accuracy: 0.6500\n",
            "Epoch 386/3500\n",
            "3/3 [==============================] - 0s 19ms/step - loss: 0.3152 - accuracy: 0.8875 - val_loss: 0.5684 - val_accuracy: 0.6500\n",
            "Epoch 387/3500\n",
            "3/3 [==============================] - 0s 20ms/step - loss: 0.3147 - accuracy: 0.8875 - val_loss: 0.5712 - val_accuracy: 0.6500\n",
            "Epoch 388/3500\n",
            "3/3 [==============================] - 0s 110ms/step - loss: 0.3150 - accuracy: 0.9000 - val_loss: 0.5760 - val_accuracy: 0.6500\n",
            "Epoch 389/3500\n",
            "3/3 [==============================] - 0s 85ms/step - loss: 0.3136 - accuracy: 0.9000 - val_loss: 0.5768 - val_accuracy: 0.6500\n",
            "Epoch 390/3500\n",
            "3/3 [==============================] - 0s 94ms/step - loss: 0.3147 - accuracy: 0.9000 - val_loss: 0.5756 - val_accuracy: 0.6500\n",
            "Epoch 391/3500\n",
            "3/3 [==============================] - 0s 79ms/step - loss: 0.3145 - accuracy: 0.9000 - val_loss: 0.5733 - val_accuracy: 0.6500\n",
            "Epoch 392/3500\n",
            "3/3 [==============================] - 0s 66ms/step - loss: 0.3138 - accuracy: 0.9000 - val_loss: 0.5717 - val_accuracy: 0.6500\n",
            "Epoch 393/3500\n",
            "3/3 [==============================] - 0s 66ms/step - loss: 0.3126 - accuracy: 0.9000 - val_loss: 0.5737 - val_accuracy: 0.6500\n",
            "Epoch 394/3500\n",
            "3/3 [==============================] - 0s 20ms/step - loss: 0.3117 - accuracy: 0.9000 - val_loss: 0.5770 - val_accuracy: 0.6500\n",
            "Epoch 395/3500\n",
            "3/3 [==============================] - 0s 20ms/step - loss: 0.3136 - accuracy: 0.8875 - val_loss: 0.5773 - val_accuracy: 0.6500\n",
            "Epoch 396/3500\n",
            "3/3 [==============================] - 0s 19ms/step - loss: 0.3109 - accuracy: 0.9000 - val_loss: 0.5769 - val_accuracy: 0.6500\n",
            "Epoch 397/3500\n",
            "3/3 [==============================] - 0s 22ms/step - loss: 0.3110 - accuracy: 0.9000 - val_loss: 0.5747 - val_accuracy: 0.6500\n",
            "Epoch 398/3500\n",
            "3/3 [==============================] - 0s 20ms/step - loss: 0.3104 - accuracy: 0.9000 - val_loss: 0.5741 - val_accuracy: 0.6500\n",
            "Epoch 399/3500\n",
            "3/3 [==============================] - 0s 27ms/step - loss: 0.3106 - accuracy: 0.9000 - val_loss: 0.5711 - val_accuracy: 0.6500\n",
            "Epoch 400/3500\n",
            "3/3 [==============================] - 0s 21ms/step - loss: 0.3093 - accuracy: 0.9000 - val_loss: 0.5704 - val_accuracy: 0.6500\n",
            "Epoch 401/3500\n",
            "3/3 [==============================] - 0s 22ms/step - loss: 0.3090 - accuracy: 0.9000 - val_loss: 0.5701 - val_accuracy: 0.6500\n",
            "Epoch 402/3500\n",
            "3/3 [==============================] - 0s 21ms/step - loss: 0.3091 - accuracy: 0.8875 - val_loss: 0.5694 - val_accuracy: 0.6500\n",
            "Epoch 403/3500\n",
            "3/3 [==============================] - 0s 21ms/step - loss: 0.3086 - accuracy: 0.8875 - val_loss: 0.5688 - val_accuracy: 0.6500\n",
            "Epoch 404/3500\n",
            "3/3 [==============================] - 0s 21ms/step - loss: 0.3079 - accuracy: 0.8875 - val_loss: 0.5695 - val_accuracy: 0.6500\n",
            "Epoch 405/3500\n",
            "3/3 [==============================] - 0s 20ms/step - loss: 0.3075 - accuracy: 0.8875 - val_loss: 0.5696 - val_accuracy: 0.6500\n",
            "Epoch 406/3500\n",
            "3/3 [==============================] - 0s 21ms/step - loss: 0.3076 - accuracy: 0.8875 - val_loss: 0.5703 - val_accuracy: 0.6500\n",
            "Epoch 407/3500\n",
            "3/3 [==============================] - 0s 28ms/step - loss: 0.3063 - accuracy: 0.9125 - val_loss: 0.5730 - val_accuracy: 0.6500\n",
            "Epoch 408/3500\n",
            "3/3 [==============================] - 0s 19ms/step - loss: 0.3078 - accuracy: 0.9125 - val_loss: 0.5765 - val_accuracy: 0.6500\n",
            "Epoch 408: early stopping\n"
          ]
        }
      ]
    },
    {
      "cell_type": "code",
      "source": [
        "plt.plot(history.history['loss'], label='train')\n",
        "plt.plot(history.history['val_loss'], label='test')\n",
        "plt.legend()\n",
        "plt.show()"
      ],
      "metadata": {
        "colab": {
          "base_uri": "https://localhost:8080/",
          "height": 430
        },
        "id": "ShQgHQnq5KqV",
        "outputId": "eaa49826-cf2c-4de3-f75f-db094aa7ac5e"
      },
      "execution_count": 74,
      "outputs": [
        {
          "output_type": "display_data",
          "data": {
            "text/plain": [
              "<Figure size 640x480 with 1 Axes>"
            ],
            "image/png": "[encoded data removed]"
          },
          "metadata": {}
        }
      ]
    },
    {
      "cell_type": "code",
      "source": [
        "plot_decision_regions(X_test, y_test.ravel(), clf = model, legend=2)\n",
        "plt.show()"
      ],
      "metadata": {
        "colab": {
          "base_uri": "https://localhost:8080/",
          "height": 447
        },
        "id": "fjvBDo2t5QHv",
        "outputId": "98ba193d-fb4b-4e67-d722-3fadf75b2264"
      },
      "execution_count": 75,
      "outputs": [
        {
          "output_type": "stream",
          "name": "stdout",
          "text": [
            "9600/9600 [==============================] - 14s 1ms/step\n"
          ]
        },
        {
          "output_type": "display_data",
          "data": {
            "text/plain": [
              "<Figure size 640x480 with 1 Axes>"
            ],
            "image/png": "[encoded data removed]"
          },
          "metadata": {}
        }
      ]
    },
    {
      "cell_type": "code",
      "source": [
        "y_pred=(model.predict(X_test)>0.5)\n",
        "print(type(y_pred))\n",
        "print(y_pred[0][0])\n",
        "# print(y_pred.astype(int))\n",
        "y_pred=y_pred.astype(int).ravel()\n",
        "\n",
        "\n",
        "\n",
        "print(y_pred.shape)\n",
        "print(y_test.shape)\n",
        "print(y_pred)"
      ],
      "metadata": {
        "id": "mAzmNtAN5Y43",
        "outputId": "b573cf21-418d-4ef7-e6b1-84cfe629d4d5",
        "colab": {
          "base_uri": "https://localhost:8080/"
        }
      },
      "execution_count": 76,
      "outputs": [
        {
          "output_type": "stream",
          "name": "stdout",
          "text": [
            "1/1 [==============================] - 0s 53ms/step\n",
            "<class 'numpy.ndarray'>\n",
            "False\n",
            "(20,)\n",
            "(20,)\n",
            "[0 0 1 1 0 1 0 0 0 0 0 1 0 1 1 0 1 1 0 0]\n"
          ]
        }
      ]
    },
    {
      "cell_type": "code",
      "source": [
        "# accuracy improved as we did early stopping as we are avoiding overfitting by reducing the number of epochs\n",
        "print('accuracy',sum(y_pred==y_test)/len(y_test)*100)\n"
      ],
      "metadata": {
        "id": "8lUXspgPj3Gp",
        "outputId": "c49826eb-ec2d-4345-e449-dd861aaa94c9",
        "colab": {
          "base_uri": "https://localhost:8080/"
        }
      },
      "execution_count": 79,
      "outputs": [
        {
          "output_type": "stream",
          "name": "stdout",
          "text": [
            "accuracy 65.0\n"
          ]
        }
      ]
    }
  ]
}